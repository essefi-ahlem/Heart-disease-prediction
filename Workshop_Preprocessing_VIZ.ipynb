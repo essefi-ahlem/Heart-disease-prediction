{
  "nbformat": 4,
  "nbformat_minor": 0,
  "metadata": {
    "colab": {
      "name": "Workshop Preprocessing/VIZ.ipynb",
      "provenance": [],
      "collapsed_sections": []
    },
    "kernelspec": {
      "name": "python3",
      "display_name": "Python 3"
    },
    "language_info": {
      "name": "python"
    }
  },
  "cells": [
    {
      "cell_type": "markdown",
      "metadata": {
        "id": "Jw31z8SLR3Z0"
      },
      "source": [
        "# **Importing Librairies**"
      ]
    },
    {
      "cell_type": "code",
      "metadata": {
        "id": "J8JREL_7tTU_"
      },
      "source": [
        "import pandas as pd \n",
        "import matplotlib.pyplot as plt\n",
        "import seaborn as sns\n",
        "import numpy as np\n",
        "from sklearn.model_selection import train_test_split\n",
        "\n",
        "from sklearn.linear_model import LogisticRegression\n",
        "from sklearn import metrics\n",
        "from sklearn.neighbors import KNeighborsClassifier\n",
        "from sklearn.metrics import accuracy_score\n",
        "from sklearn.ensemble import RandomForestClassifier\n"
      ],
      "execution_count": null,
      "outputs": []
    },
    {
      "cell_type": "markdown",
      "metadata": {
        "id": "HbIjehUySAw8"
      },
      "source": [
        "# **EDA**"
      ]
    },
    {
      "cell_type": "code",
      "metadata": {
        "id": "hwSZXlaFtbEj",
        "colab": {
          "base_uri": "https://localhost:8080/",
          "height": 206
        },
        "outputId": "33f3e9a3-1549-4582-947d-970738ecc2ef"
      },
      "source": [
        "df=pd.read_csv('/content/heart.csv')\n",
        "df.head(5)"
      ],
      "execution_count": null,
      "outputs": [
        {
          "output_type": "execute_result",
          "data": {
            "text/plain": [
              "   Age Sex ChestPainType  RestingBP  Cholesterol  FastingBS RestingECG  MaxHR  \\\n",
              "0   40   M           ATA        140          289          0     Normal    172   \n",
              "1   49   F           NAP        160          180          0     Normal    156   \n",
              "2   37   M           ATA        130          283          0         ST     98   \n",
              "3   48   F           ASY        138          214          0     Normal    108   \n",
              "4   54   M           NAP        150          195          0     Normal    122   \n",
              "\n",
              "  ExerciseAngina  Oldpeak ST_Slope  HeartDisease  \n",
              "0              N      0.0       Up             0  \n",
              "1              N      1.0     Flat             1  \n",
              "2              N      0.0       Up             0  \n",
              "3              Y      1.5     Flat             1  \n",
              "4              N      0.0       Up             0  "
            ],
            "text/html": [
              "\n",
              "  <div id=\"df-9ec23635-7ac0-49cb-b3ed-251d8b2f531b\">\n",
              "    <div class=\"colab-df-container\">\n",
              "      <div>\n",
              "<style scoped>\n",
              "    .dataframe tbody tr th:only-of-type {\n",
              "        vertical-align: middle;\n",
              "    }\n",
              "\n",
              "    .dataframe tbody tr th {\n",
              "        vertical-align: top;\n",
              "    }\n",
              "\n",
              "    .dataframe thead th {\n",
              "        text-align: right;\n",
              "    }\n",
              "</style>\n",
              "<table border=\"1\" class=\"dataframe\">\n",
              "  <thead>\n",
              "    <tr style=\"text-align: right;\">\n",
              "      <th></th>\n",
              "      <th>Age</th>\n",
              "      <th>Sex</th>\n",
              "      <th>ChestPainType</th>\n",
              "      <th>RestingBP</th>\n",
              "      <th>Cholesterol</th>\n",
              "      <th>FastingBS</th>\n",
              "      <th>RestingECG</th>\n",
              "      <th>MaxHR</th>\n",
              "      <th>ExerciseAngina</th>\n",
              "      <th>Oldpeak</th>\n",
              "      <th>ST_Slope</th>\n",
              "      <th>HeartDisease</th>\n",
              "    </tr>\n",
              "  </thead>\n",
              "  <tbody>\n",
              "    <tr>\n",
              "      <th>0</th>\n",
              "      <td>40</td>\n",
              "      <td>M</td>\n",
              "      <td>ATA</td>\n",
              "      <td>140</td>\n",
              "      <td>289</td>\n",
              "      <td>0</td>\n",
              "      <td>Normal</td>\n",
              "      <td>172</td>\n",
              "      <td>N</td>\n",
              "      <td>0.0</td>\n",
              "      <td>Up</td>\n",
              "      <td>0</td>\n",
              "    </tr>\n",
              "    <tr>\n",
              "      <th>1</th>\n",
              "      <td>49</td>\n",
              "      <td>F</td>\n",
              "      <td>NAP</td>\n",
              "      <td>160</td>\n",
              "      <td>180</td>\n",
              "      <td>0</td>\n",
              "      <td>Normal</td>\n",
              "      <td>156</td>\n",
              "      <td>N</td>\n",
              "      <td>1.0</td>\n",
              "      <td>Flat</td>\n",
              "      <td>1</td>\n",
              "    </tr>\n",
              "    <tr>\n",
              "      <th>2</th>\n",
              "      <td>37</td>\n",
              "      <td>M</td>\n",
              "      <td>ATA</td>\n",
              "      <td>130</td>\n",
              "      <td>283</td>\n",
              "      <td>0</td>\n",
              "      <td>ST</td>\n",
              "      <td>98</td>\n",
              "      <td>N</td>\n",
              "      <td>0.0</td>\n",
              "      <td>Up</td>\n",
              "      <td>0</td>\n",
              "    </tr>\n",
              "    <tr>\n",
              "      <th>3</th>\n",
              "      <td>48</td>\n",
              "      <td>F</td>\n",
              "      <td>ASY</td>\n",
              "      <td>138</td>\n",
              "      <td>214</td>\n",
              "      <td>0</td>\n",
              "      <td>Normal</td>\n",
              "      <td>108</td>\n",
              "      <td>Y</td>\n",
              "      <td>1.5</td>\n",
              "      <td>Flat</td>\n",
              "      <td>1</td>\n",
              "    </tr>\n",
              "    <tr>\n",
              "      <th>4</th>\n",
              "      <td>54</td>\n",
              "      <td>M</td>\n",
              "      <td>NAP</td>\n",
              "      <td>150</td>\n",
              "      <td>195</td>\n",
              "      <td>0</td>\n",
              "      <td>Normal</td>\n",
              "      <td>122</td>\n",
              "      <td>N</td>\n",
              "      <td>0.0</td>\n",
              "      <td>Up</td>\n",
              "      <td>0</td>\n",
              "    </tr>\n",
              "  </tbody>\n",
              "</table>\n",
              "</div>\n",
              "      <button class=\"colab-df-convert\" onclick=\"convertToInteractive('df-9ec23635-7ac0-49cb-b3ed-251d8b2f531b')\"\n",
              "              title=\"Convert this dataframe to an interactive table.\"\n",
              "              style=\"display:none;\">\n",
              "        \n",
              "  <svg xmlns=\"http://www.w3.org/2000/svg\" height=\"24px\"viewBox=\"0 0 24 24\"\n",
              "       width=\"24px\">\n",
              "    <path d=\"M0 0h24v24H0V0z\" fill=\"none\"/>\n",
              "    <path d=\"M18.56 5.44l.94 2.06.94-2.06 2.06-.94-2.06-.94-.94-2.06-.94 2.06-2.06.94zm-11 1L8.5 8.5l.94-2.06 2.06-.94-2.06-.94L8.5 2.5l-.94 2.06-2.06.94zm10 10l.94 2.06.94-2.06 2.06-.94-2.06-.94-.94-2.06-.94 2.06-2.06.94z\"/><path d=\"M17.41 7.96l-1.37-1.37c-.4-.4-.92-.59-1.43-.59-.52 0-1.04.2-1.43.59L10.3 9.45l-7.72 7.72c-.78.78-.78 2.05 0 2.83L4 21.41c.39.39.9.59 1.41.59.51 0 1.02-.2 1.41-.59l7.78-7.78 2.81-2.81c.8-.78.8-2.07 0-2.86zM5.41 20L4 18.59l7.72-7.72 1.47 1.35L5.41 20z\"/>\n",
              "  </svg>\n",
              "      </button>\n",
              "      \n",
              "  <style>\n",
              "    .colab-df-container {\n",
              "      display:flex;\n",
              "      flex-wrap:wrap;\n",
              "      gap: 12px;\n",
              "    }\n",
              "\n",
              "    .colab-df-convert {\n",
              "      background-color: #E8F0FE;\n",
              "      border: none;\n",
              "      border-radius: 50%;\n",
              "      cursor: pointer;\n",
              "      display: none;\n",
              "      fill: #1967D2;\n",
              "      height: 32px;\n",
              "      padding: 0 0 0 0;\n",
              "      width: 32px;\n",
              "    }\n",
              "\n",
              "    .colab-df-convert:hover {\n",
              "      background-color: #E2EBFA;\n",
              "      box-shadow: 0px 1px 2px rgba(60, 64, 67, 0.3), 0px 1px 3px 1px rgba(60, 64, 67, 0.15);\n",
              "      fill: #174EA6;\n",
              "    }\n",
              "\n",
              "    [theme=dark] .colab-df-convert {\n",
              "      background-color: #3B4455;\n",
              "      fill: #D2E3FC;\n",
              "    }\n",
              "\n",
              "    [theme=dark] .colab-df-convert:hover {\n",
              "      background-color: #434B5C;\n",
              "      box-shadow: 0px 1px 3px 1px rgba(0, 0, 0, 0.15);\n",
              "      filter: drop-shadow(0px 1px 2px rgba(0, 0, 0, 0.3));\n",
              "      fill: #FFFFFF;\n",
              "    }\n",
              "  </style>\n",
              "\n",
              "      <script>\n",
              "        const buttonEl =\n",
              "          document.querySelector('#df-9ec23635-7ac0-49cb-b3ed-251d8b2f531b button.colab-df-convert');\n",
              "        buttonEl.style.display =\n",
              "          google.colab.kernel.accessAllowed ? 'block' : 'none';\n",
              "\n",
              "        async function convertToInteractive(key) {\n",
              "          const element = document.querySelector('#df-9ec23635-7ac0-49cb-b3ed-251d8b2f531b');\n",
              "          const dataTable =\n",
              "            await google.colab.kernel.invokeFunction('convertToInteractive',\n",
              "                                                     [key], {});\n",
              "          if (!dataTable) return;\n",
              "\n",
              "          const docLinkHtml = 'Like what you see? Visit the ' +\n",
              "            '<a target=\"_blank\" href=https://colab.research.google.com/notebooks/data_table.ipynb>data table notebook</a>'\n",
              "            + ' to learn more about interactive tables.';\n",
              "          element.innerHTML = '';\n",
              "          dataTable['output_type'] = 'display_data';\n",
              "          await google.colab.output.renderOutput(dataTable, element);\n",
              "          const docLink = document.createElement('div');\n",
              "          docLink.innerHTML = docLinkHtml;\n",
              "          element.appendChild(docLink);\n",
              "        }\n",
              "      </script>\n",
              "    </div>\n",
              "  </div>\n",
              "  "
            ]
          },
          "metadata": {},
          "execution_count": 23
        }
      ]
    },
    {
      "cell_type": "markdown",
      "metadata": {
        "id": "p7tFuWFQ1fSJ"
      },
      "source": [
        "Features explanation:\n",
        "\n",
        "\n",
        "*   ChestPainType : ASY=asymptomatic, ATA=atypical angina, NAP =non-anginal pain,TA= typical angina\n",
        "*   RestingBP= Resting Blood Pressure in mm/hg\n",
        "*   Cholesterol = it circulates in the blood\n",
        "*   FastingBS = Fasting Blood Sugar\n",
        "*   RestingECG = The resting electrocardiogram is a test that measures the electrical activity of the heart.\n",
        "*   MaxHR = (maximum heart rate) it's the highest number of beats per minute your heart can pump under maximum stress.\n",
        "*   ExerciceAngina = Exercise-Induced Angina :It frequently may occur with exercise or stress. \n",
        "*   Oldpeak = ST depression induced by exercise relative to rest\n",
        "*   ST_Slope = Slope of the Peak Exercise ST segment![EKG_Complex_fr.svg.png](data:image/png;base64,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)\n",
        "*   HeartDisease = The target\n",
        "\n",
        "\n",
        "\n",
        "\n",
        "\n",
        "\n",
        "\n",
        "\n"
      ]
    },
    {
      "cell_type": "code",
      "metadata": {
        "colab": {
          "base_uri": "https://localhost:8080/"
        },
        "id": "9uYiGwrQRpBJ",
        "outputId": "4758b9e6-7343-488c-c87d-45100bb2e3b3"
      },
      "source": [
        "df.shape"
      ],
      "execution_count": null,
      "outputs": [
        {
          "output_type": "execute_result",
          "data": {
            "text/plain": [
              "(918, 12)"
            ]
          },
          "metadata": {},
          "execution_count": 24
        }
      ]
    },
    {
      "cell_type": "code",
      "source": [
        "df.dtypes #return types bark"
      ],
      "metadata": {
        "colab": {
          "base_uri": "https://localhost:8080/"
        },
        "id": "7DsoaGtmmEF1",
        "outputId": "8c177a84-04a0-400c-8e32-41fbe8d6699f"
      },
      "execution_count": null,
      "outputs": [
        {
          "output_type": "execute_result",
          "data": {
            "text/plain": [
              "Age                 int64\n",
              "Sex                object\n",
              "ChestPainType      object\n",
              "RestingBP           int64\n",
              "Cholesterol         int64\n",
              "FastingBS           int64\n",
              "RestingECG         object\n",
              "MaxHR               int64\n",
              "ExerciseAngina     object\n",
              "Oldpeak           float64\n",
              "ST_Slope           object\n",
              "HeartDisease        int64\n",
              "dtype: object"
            ]
          },
          "metadata": {},
          "execution_count": 25
        }
      ]
    },
    {
      "cell_type": "code",
      "metadata": {
        "colab": {
          "base_uri": "https://localhost:8080/"
        },
        "id": "O-aVz_I_vDAw",
        "outputId": "52d2ffec-f602-47e8-fbfd-586440750d44"
      },
      "source": [
        "df.info()"
      ],
      "execution_count": null,
      "outputs": [
        {
          "output_type": "stream",
          "name": "stdout",
          "text": [
            "<class 'pandas.core.frame.DataFrame'>\n",
            "RangeIndex: 918 entries, 0 to 917\n",
            "Data columns (total 12 columns):\n",
            " #   Column          Non-Null Count  Dtype  \n",
            "---  ------          --------------  -----  \n",
            " 0   Age             918 non-null    int64  \n",
            " 1   Sex             918 non-null    object \n",
            " 2   ChestPainType   918 non-null    object \n",
            " 3   RestingBP       918 non-null    int64  \n",
            " 4   Cholesterol     918 non-null    int64  \n",
            " 5   FastingBS       918 non-null    int64  \n",
            " 6   RestingECG      918 non-null    object \n",
            " 7   MaxHR           918 non-null    int64  \n",
            " 8   ExerciseAngina  918 non-null    object \n",
            " 9   Oldpeak         918 non-null    float64\n",
            " 10  ST_Slope        918 non-null    object \n",
            " 11  HeartDisease    918 non-null    int64  \n",
            "dtypes: float64(1), int64(6), object(5)\n",
            "memory usage: 86.2+ KB\n"
          ]
        }
      ]
    },
    {
      "cell_type": "code",
      "source": [
        "df.head(4)"
      ],
      "metadata": {
        "colab": {
          "base_uri": "https://localhost:8080/",
          "height": 175
        },
        "id": "5_Ff-XKpv9zZ",
        "outputId": "919a1041-19b1-4b97-9fc4-9bf041bdc39b"
      },
      "execution_count": null,
      "outputs": [
        {
          "output_type": "execute_result",
          "data": {
            "text/plain": [
              "   Age Sex ChestPainType  RestingBP  Cholesterol  FastingBS RestingECG  MaxHR  \\\n",
              "0   40   M           ATA        140          289          0     Normal    172   \n",
              "1   49   F           NAP        160          180          0     Normal    156   \n",
              "2   37   M           ATA        130          283          0         ST     98   \n",
              "3   48   F           ASY        138          214          0     Normal    108   \n",
              "\n",
              "  ExerciseAngina  Oldpeak ST_Slope  HeartDisease  \n",
              "0              N      0.0       Up             0  \n",
              "1              N      1.0     Flat             1  \n",
              "2              N      0.0       Up             0  \n",
              "3              Y      1.5     Flat             1  "
            ],
            "text/html": [
              "\n",
              "  <div id=\"df-19ace59a-5420-4da2-96d2-0f7847c66cc3\">\n",
              "    <div class=\"colab-df-container\">\n",
              "      <div>\n",
              "<style scoped>\n",
              "    .dataframe tbody tr th:only-of-type {\n",
              "        vertical-align: middle;\n",
              "    }\n",
              "\n",
              "    .dataframe tbody tr th {\n",
              "        vertical-align: top;\n",
              "    }\n",
              "\n",
              "    .dataframe thead th {\n",
              "        text-align: right;\n",
              "    }\n",
              "</style>\n",
              "<table border=\"1\" class=\"dataframe\">\n",
              "  <thead>\n",
              "    <tr style=\"text-align: right;\">\n",
              "      <th></th>\n",
              "      <th>Age</th>\n",
              "      <th>Sex</th>\n",
              "      <th>ChestPainType</th>\n",
              "      <th>RestingBP</th>\n",
              "      <th>Cholesterol</th>\n",
              "      <th>FastingBS</th>\n",
              "      <th>RestingECG</th>\n",
              "      <th>MaxHR</th>\n",
              "      <th>ExerciseAngina</th>\n",
              "      <th>Oldpeak</th>\n",
              "      <th>ST_Slope</th>\n",
              "      <th>HeartDisease</th>\n",
              "    </tr>\n",
              "  </thead>\n",
              "  <tbody>\n",
              "    <tr>\n",
              "      <th>0</th>\n",
              "      <td>40</td>\n",
              "      <td>M</td>\n",
              "      <td>ATA</td>\n",
              "      <td>140</td>\n",
              "      <td>289</td>\n",
              "      <td>0</td>\n",
              "      <td>Normal</td>\n",
              "      <td>172</td>\n",
              "      <td>N</td>\n",
              "      <td>0.0</td>\n",
              "      <td>Up</td>\n",
              "      <td>0</td>\n",
              "    </tr>\n",
              "    <tr>\n",
              "      <th>1</th>\n",
              "      <td>49</td>\n",
              "      <td>F</td>\n",
              "      <td>NAP</td>\n",
              "      <td>160</td>\n",
              "      <td>180</td>\n",
              "      <td>0</td>\n",
              "      <td>Normal</td>\n",
              "      <td>156</td>\n",
              "      <td>N</td>\n",
              "      <td>1.0</td>\n",
              "      <td>Flat</td>\n",
              "      <td>1</td>\n",
              "    </tr>\n",
              "    <tr>\n",
              "      <th>2</th>\n",
              "      <td>37</td>\n",
              "      <td>M</td>\n",
              "      <td>ATA</td>\n",
              "      <td>130</td>\n",
              "      <td>283</td>\n",
              "      <td>0</td>\n",
              "      <td>ST</td>\n",
              "      <td>98</td>\n",
              "      <td>N</td>\n",
              "      <td>0.0</td>\n",
              "      <td>Up</td>\n",
              "      <td>0</td>\n",
              "    </tr>\n",
              "    <tr>\n",
              "      <th>3</th>\n",
              "      <td>48</td>\n",
              "      <td>F</td>\n",
              "      <td>ASY</td>\n",
              "      <td>138</td>\n",
              "      <td>214</td>\n",
              "      <td>0</td>\n",
              "      <td>Normal</td>\n",
              "      <td>108</td>\n",
              "      <td>Y</td>\n",
              "      <td>1.5</td>\n",
              "      <td>Flat</td>\n",
              "      <td>1</td>\n",
              "    </tr>\n",
              "  </tbody>\n",
              "</table>\n",
              "</div>\n",
              "      <button class=\"colab-df-convert\" onclick=\"convertToInteractive('df-19ace59a-5420-4da2-96d2-0f7847c66cc3')\"\n",
              "              title=\"Convert this dataframe to an interactive table.\"\n",
              "              style=\"display:none;\">\n",
              "        \n",
              "  <svg xmlns=\"http://www.w3.org/2000/svg\" height=\"24px\"viewBox=\"0 0 24 24\"\n",
              "       width=\"24px\">\n",
              "    <path d=\"M0 0h24v24H0V0z\" fill=\"none\"/>\n",
              "    <path d=\"M18.56 5.44l.94 2.06.94-2.06 2.06-.94-2.06-.94-.94-2.06-.94 2.06-2.06.94zm-11 1L8.5 8.5l.94-2.06 2.06-.94-2.06-.94L8.5 2.5l-.94 2.06-2.06.94zm10 10l.94 2.06.94-2.06 2.06-.94-2.06-.94-.94-2.06-.94 2.06-2.06.94z\"/><path d=\"M17.41 7.96l-1.37-1.37c-.4-.4-.92-.59-1.43-.59-.52 0-1.04.2-1.43.59L10.3 9.45l-7.72 7.72c-.78.78-.78 2.05 0 2.83L4 21.41c.39.39.9.59 1.41.59.51 0 1.02-.2 1.41-.59l7.78-7.78 2.81-2.81c.8-.78.8-2.07 0-2.86zM5.41 20L4 18.59l7.72-7.72 1.47 1.35L5.41 20z\"/>\n",
              "  </svg>\n",
              "      </button>\n",
              "      \n",
              "  <style>\n",
              "    .colab-df-container {\n",
              "      display:flex;\n",
              "      flex-wrap:wrap;\n",
              "      gap: 12px;\n",
              "    }\n",
              "\n",
              "    .colab-df-convert {\n",
              "      background-color: #E8F0FE;\n",
              "      border: none;\n",
              "      border-radius: 50%;\n",
              "      cursor: pointer;\n",
              "      display: none;\n",
              "      fill: #1967D2;\n",
              "      height: 32px;\n",
              "      padding: 0 0 0 0;\n",
              "      width: 32px;\n",
              "    }\n",
              "\n",
              "    .colab-df-convert:hover {\n",
              "      background-color: #E2EBFA;\n",
              "      box-shadow: 0px 1px 2px rgba(60, 64, 67, 0.3), 0px 1px 3px 1px rgba(60, 64, 67, 0.15);\n",
              "      fill: #174EA6;\n",
              "    }\n",
              "\n",
              "    [theme=dark] .colab-df-convert {\n",
              "      background-color: #3B4455;\n",
              "      fill: #D2E3FC;\n",
              "    }\n",
              "\n",
              "    [theme=dark] .colab-df-convert:hover {\n",
              "      background-color: #434B5C;\n",
              "      box-shadow: 0px 1px 3px 1px rgba(0, 0, 0, 0.15);\n",
              "      filter: drop-shadow(0px 1px 2px rgba(0, 0, 0, 0.3));\n",
              "      fill: #FFFFFF;\n",
              "    }\n",
              "  </style>\n",
              "\n",
              "      <script>\n",
              "        const buttonEl =\n",
              "          document.querySelector('#df-19ace59a-5420-4da2-96d2-0f7847c66cc3 button.colab-df-convert');\n",
              "        buttonEl.style.display =\n",
              "          google.colab.kernel.accessAllowed ? 'block' : 'none';\n",
              "\n",
              "        async function convertToInteractive(key) {\n",
              "          const element = document.querySelector('#df-19ace59a-5420-4da2-96d2-0f7847c66cc3');\n",
              "          const dataTable =\n",
              "            await google.colab.kernel.invokeFunction('convertToInteractive',\n",
              "                                                     [key], {});\n",
              "          if (!dataTable) return;\n",
              "\n",
              "          const docLinkHtml = 'Like what you see? Visit the ' +\n",
              "            '<a target=\"_blank\" href=https://colab.research.google.com/notebooks/data_table.ipynb>data table notebook</a>'\n",
              "            + ' to learn more about interactive tables.';\n",
              "          element.innerHTML = '';\n",
              "          dataTable['output_type'] = 'display_data';\n",
              "          await google.colab.output.renderOutput(dataTable, element);\n",
              "          const docLink = document.createElement('div');\n",
              "          docLink.innerHTML = docLinkHtml;\n",
              "          element.appendChild(docLink);\n",
              "        }\n",
              "      </script>\n",
              "    </div>\n",
              "  </div>\n",
              "  "
            ]
          },
          "metadata": {},
          "execution_count": 44
        }
      ]
    },
    {
      "cell_type": "code",
      "source": [
        "# awil 5 lignes fil data\n",
        "df.head()\n",
        "# ekhir 5 lignes\n",
        "df.tail()\n",
        "# ligne au hasard\n",
        "df.sample()"
      ],
      "metadata": {
        "id": "4JRLL2Nal0H5",
        "colab": {
          "base_uri": "https://localhost:8080/",
          "height": 81
        },
        "outputId": "3a0bed7c-f6d0-45ae-cb2e-e472d10e6bdd"
      },
      "execution_count": null,
      "outputs": [
        {
          "output_type": "execute_result",
          "data": {
            "text/plain": [
              "     Age Sex ChestPainType  RestingBP  Cholesterol  FastingBS RestingECG  \\\n",
              "829   29   M           ATA        130          204          0        LVH   \n",
              "\n",
              "     MaxHR ExerciseAngina  Oldpeak ST_Slope  HeartDisease  \n",
              "829    202              N      0.0       Up             0  "
            ],
            "text/html": [
              "\n",
              "  <div id=\"df-dd5c9cbc-18ac-4f41-a6b1-c9ef06a1d514\">\n",
              "    <div class=\"colab-df-container\">\n",
              "      <div>\n",
              "<style scoped>\n",
              "    .dataframe tbody tr th:only-of-type {\n",
              "        vertical-align: middle;\n",
              "    }\n",
              "\n",
              "    .dataframe tbody tr th {\n",
              "        vertical-align: top;\n",
              "    }\n",
              "\n",
              "    .dataframe thead th {\n",
              "        text-align: right;\n",
              "    }\n",
              "</style>\n",
              "<table border=\"1\" class=\"dataframe\">\n",
              "  <thead>\n",
              "    <tr style=\"text-align: right;\">\n",
              "      <th></th>\n",
              "      <th>Age</th>\n",
              "      <th>Sex</th>\n",
              "      <th>ChestPainType</th>\n",
              "      <th>RestingBP</th>\n",
              "      <th>Cholesterol</th>\n",
              "      <th>FastingBS</th>\n",
              "      <th>RestingECG</th>\n",
              "      <th>MaxHR</th>\n",
              "      <th>ExerciseAngina</th>\n",
              "      <th>Oldpeak</th>\n",
              "      <th>ST_Slope</th>\n",
              "      <th>HeartDisease</th>\n",
              "    </tr>\n",
              "  </thead>\n",
              "  <tbody>\n",
              "    <tr>\n",
              "      <th>829</th>\n",
              "      <td>29</td>\n",
              "      <td>M</td>\n",
              "      <td>ATA</td>\n",
              "      <td>130</td>\n",
              "      <td>204</td>\n",
              "      <td>0</td>\n",
              "      <td>LVH</td>\n",
              "      <td>202</td>\n",
              "      <td>N</td>\n",
              "      <td>0.0</td>\n",
              "      <td>Up</td>\n",
              "      <td>0</td>\n",
              "    </tr>\n",
              "  </tbody>\n",
              "</table>\n",
              "</div>\n",
              "      <button class=\"colab-df-convert\" onclick=\"convertToInteractive('df-dd5c9cbc-18ac-4f41-a6b1-c9ef06a1d514')\"\n",
              "              title=\"Convert this dataframe to an interactive table.\"\n",
              "              style=\"display:none;\">\n",
              "        \n",
              "  <svg xmlns=\"http://www.w3.org/2000/svg\" height=\"24px\"viewBox=\"0 0 24 24\"\n",
              "       width=\"24px\">\n",
              "    <path d=\"M0 0h24v24H0V0z\" fill=\"none\"/>\n",
              "    <path d=\"M18.56 5.44l.94 2.06.94-2.06 2.06-.94-2.06-.94-.94-2.06-.94 2.06-2.06.94zm-11 1L8.5 8.5l.94-2.06 2.06-.94-2.06-.94L8.5 2.5l-.94 2.06-2.06.94zm10 10l.94 2.06.94-2.06 2.06-.94-2.06-.94-.94-2.06-.94 2.06-2.06.94z\"/><path d=\"M17.41 7.96l-1.37-1.37c-.4-.4-.92-.59-1.43-.59-.52 0-1.04.2-1.43.59L10.3 9.45l-7.72 7.72c-.78.78-.78 2.05 0 2.83L4 21.41c.39.39.9.59 1.41.59.51 0 1.02-.2 1.41-.59l7.78-7.78 2.81-2.81c.8-.78.8-2.07 0-2.86zM5.41 20L4 18.59l7.72-7.72 1.47 1.35L5.41 20z\"/>\n",
              "  </svg>\n",
              "      </button>\n",
              "      \n",
              "  <style>\n",
              "    .colab-df-container {\n",
              "      display:flex;\n",
              "      flex-wrap:wrap;\n",
              "      gap: 12px;\n",
              "    }\n",
              "\n",
              "    .colab-df-convert {\n",
              "      background-color: #E8F0FE;\n",
              "      border: none;\n",
              "      border-radius: 50%;\n",
              "      cursor: pointer;\n",
              "      display: none;\n",
              "      fill: #1967D2;\n",
              "      height: 32px;\n",
              "      padding: 0 0 0 0;\n",
              "      width: 32px;\n",
              "    }\n",
              "\n",
              "    .colab-df-convert:hover {\n",
              "      background-color: #E2EBFA;\n",
              "      box-shadow: 0px 1px 2px rgba(60, 64, 67, 0.3), 0px 1px 3px 1px rgba(60, 64, 67, 0.15);\n",
              "      fill: #174EA6;\n",
              "    }\n",
              "\n",
              "    [theme=dark] .colab-df-convert {\n",
              "      background-color: #3B4455;\n",
              "      fill: #D2E3FC;\n",
              "    }\n",
              "\n",
              "    [theme=dark] .colab-df-convert:hover {\n",
              "      background-color: #434B5C;\n",
              "      box-shadow: 0px 1px 3px 1px rgba(0, 0, 0, 0.15);\n",
              "      filter: drop-shadow(0px 1px 2px rgba(0, 0, 0, 0.3));\n",
              "      fill: #FFFFFF;\n",
              "    }\n",
              "  </style>\n",
              "\n",
              "      <script>\n",
              "        const buttonEl =\n",
              "          document.querySelector('#df-dd5c9cbc-18ac-4f41-a6b1-c9ef06a1d514 button.colab-df-convert');\n",
              "        buttonEl.style.display =\n",
              "          google.colab.kernel.accessAllowed ? 'block' : 'none';\n",
              "\n",
              "        async function convertToInteractive(key) {\n",
              "          const element = document.querySelector('#df-dd5c9cbc-18ac-4f41-a6b1-c9ef06a1d514');\n",
              "          const dataTable =\n",
              "            await google.colab.kernel.invokeFunction('convertToInteractive',\n",
              "                                                     [key], {});\n",
              "          if (!dataTable) return;\n",
              "\n",
              "          const docLinkHtml = 'Like what you see? Visit the ' +\n",
              "            '<a target=\"_blank\" href=https://colab.research.google.com/notebooks/data_table.ipynb>data table notebook</a>'\n",
              "            + ' to learn more about interactive tables.';\n",
              "          element.innerHTML = '';\n",
              "          dataTable['output_type'] = 'display_data';\n",
              "          await google.colab.output.renderOutput(dataTable, element);\n",
              "          const docLink = document.createElement('div');\n",
              "          docLink.innerHTML = docLinkHtml;\n",
              "          element.appendChild(docLink);\n",
              "        }\n",
              "      </script>\n",
              "    </div>\n",
              "  </div>\n",
              "  "
            ]
          },
          "metadata": {},
          "execution_count": 27
        }
      ]
    },
    {
      "cell_type": "code",
      "metadata": {
        "colab": {
          "base_uri": "https://localhost:8080/"
        },
        "id": "OtlW85whRyOB",
        "outputId": "d84c4746-436b-42a5-b826-0158bcb271f4"
      },
      "source": [
        "df.columns"
      ],
      "execution_count": null,
      "outputs": [
        {
          "output_type": "execute_result",
          "data": {
            "text/plain": [
              "Index(['Age', 'Sex', 'ChestPainType', 'RestingBP', 'Cholesterol', 'FastingBS',\n",
              "       'RestingECG', 'MaxHR', 'ExerciseAngina', 'Oldpeak', 'ST_Slope',\n",
              "       'HeartDisease'],\n",
              "      dtype='object')"
            ]
          },
          "metadata": {},
          "execution_count": 28
        }
      ]
    },
    {
      "cell_type": "code",
      "metadata": {
        "colab": {
          "base_uri": "https://localhost:8080/",
          "height": 300
        },
        "id": "jxF0BkGJvHFF",
        "outputId": "c0d6cf0f-dfac-4dcd-a28b-ffb0419e5acf"
      },
      "source": [
        "df.describe()"
      ],
      "execution_count": null,
      "outputs": [
        {
          "output_type": "execute_result",
          "data": {
            "text/plain": [
              "              Age   RestingBP  Cholesterol   FastingBS       MaxHR  \\\n",
              "count  918.000000  918.000000   918.000000  918.000000  918.000000   \n",
              "mean    53.510893  132.396514   198.799564    0.233115  136.809368   \n",
              "std      9.432617   18.514154   109.384145    0.423046   25.460334   \n",
              "min     28.000000    0.000000     0.000000    0.000000   60.000000   \n",
              "25%     47.000000  120.000000   173.250000    0.000000  120.000000   \n",
              "50%     54.000000  130.000000   223.000000    0.000000  138.000000   \n",
              "75%     60.000000  140.000000   267.000000    0.000000  156.000000   \n",
              "max     77.000000  200.000000   603.000000    1.000000  202.000000   \n",
              "\n",
              "          Oldpeak  HeartDisease  \n",
              "count  918.000000    918.000000  \n",
              "mean     0.887364      0.553377  \n",
              "std      1.066570      0.497414  \n",
              "min     -2.600000      0.000000  \n",
              "25%      0.000000      0.000000  \n",
              "50%      0.600000      1.000000  \n",
              "75%      1.500000      1.000000  \n",
              "max      6.200000      1.000000  "
            ],
            "text/html": [
              "\n",
              "  <div id=\"df-fd33270e-c0c6-46bd-a1f8-0c31a065d787\">\n",
              "    <div class=\"colab-df-container\">\n",
              "      <div>\n",
              "<style scoped>\n",
              "    .dataframe tbody tr th:only-of-type {\n",
              "        vertical-align: middle;\n",
              "    }\n",
              "\n",
              "    .dataframe tbody tr th {\n",
              "        vertical-align: top;\n",
              "    }\n",
              "\n",
              "    .dataframe thead th {\n",
              "        text-align: right;\n",
              "    }\n",
              "</style>\n",
              "<table border=\"1\" class=\"dataframe\">\n",
              "  <thead>\n",
              "    <tr style=\"text-align: right;\">\n",
              "      <th></th>\n",
              "      <th>Age</th>\n",
              "      <th>RestingBP</th>\n",
              "      <th>Cholesterol</th>\n",
              "      <th>FastingBS</th>\n",
              "      <th>MaxHR</th>\n",
              "      <th>Oldpeak</th>\n",
              "      <th>HeartDisease</th>\n",
              "    </tr>\n",
              "  </thead>\n",
              "  <tbody>\n",
              "    <tr>\n",
              "      <th>count</th>\n",
              "      <td>918.000000</td>\n",
              "      <td>918.000000</td>\n",
              "      <td>918.000000</td>\n",
              "      <td>918.000000</td>\n",
              "      <td>918.000000</td>\n",
              "      <td>918.000000</td>\n",
              "      <td>918.000000</td>\n",
              "    </tr>\n",
              "    <tr>\n",
              "      <th>mean</th>\n",
              "      <td>53.510893</td>\n",
              "      <td>132.396514</td>\n",
              "      <td>198.799564</td>\n",
              "      <td>0.233115</td>\n",
              "      <td>136.809368</td>\n",
              "      <td>0.887364</td>\n",
              "      <td>0.553377</td>\n",
              "    </tr>\n",
              "    <tr>\n",
              "      <th>std</th>\n",
              "      <td>9.432617</td>\n",
              "      <td>18.514154</td>\n",
              "      <td>109.384145</td>\n",
              "      <td>0.423046</td>\n",
              "      <td>25.460334</td>\n",
              "      <td>1.066570</td>\n",
              "      <td>0.497414</td>\n",
              "    </tr>\n",
              "    <tr>\n",
              "      <th>min</th>\n",
              "      <td>28.000000</td>\n",
              "      <td>0.000000</td>\n",
              "      <td>0.000000</td>\n",
              "      <td>0.000000</td>\n",
              "      <td>60.000000</td>\n",
              "      <td>-2.600000</td>\n",
              "      <td>0.000000</td>\n",
              "    </tr>\n",
              "    <tr>\n",
              "      <th>25%</th>\n",
              "      <td>47.000000</td>\n",
              "      <td>120.000000</td>\n",
              "      <td>173.250000</td>\n",
              "      <td>0.000000</td>\n",
              "      <td>120.000000</td>\n",
              "      <td>0.000000</td>\n",
              "      <td>0.000000</td>\n",
              "    </tr>\n",
              "    <tr>\n",
              "      <th>50%</th>\n",
              "      <td>54.000000</td>\n",
              "      <td>130.000000</td>\n",
              "      <td>223.000000</td>\n",
              "      <td>0.000000</td>\n",
              "      <td>138.000000</td>\n",
              "      <td>0.600000</td>\n",
              "      <td>1.000000</td>\n",
              "    </tr>\n",
              "    <tr>\n",
              "      <th>75%</th>\n",
              "      <td>60.000000</td>\n",
              "      <td>140.000000</td>\n",
              "      <td>267.000000</td>\n",
              "      <td>0.000000</td>\n",
              "      <td>156.000000</td>\n",
              "      <td>1.500000</td>\n",
              "      <td>1.000000</td>\n",
              "    </tr>\n",
              "    <tr>\n",
              "      <th>max</th>\n",
              "      <td>77.000000</td>\n",
              "      <td>200.000000</td>\n",
              "      <td>603.000000</td>\n",
              "      <td>1.000000</td>\n",
              "      <td>202.000000</td>\n",
              "      <td>6.200000</td>\n",
              "      <td>1.000000</td>\n",
              "    </tr>\n",
              "  </tbody>\n",
              "</table>\n",
              "</div>\n",
              "      <button class=\"colab-df-convert\" onclick=\"convertToInteractive('df-fd33270e-c0c6-46bd-a1f8-0c31a065d787')\"\n",
              "              title=\"Convert this dataframe to an interactive table.\"\n",
              "              style=\"display:none;\">\n",
              "        \n",
              "  <svg xmlns=\"http://www.w3.org/2000/svg\" height=\"24px\"viewBox=\"0 0 24 24\"\n",
              "       width=\"24px\">\n",
              "    <path d=\"M0 0h24v24H0V0z\" fill=\"none\"/>\n",
              "    <path d=\"M18.56 5.44l.94 2.06.94-2.06 2.06-.94-2.06-.94-.94-2.06-.94 2.06-2.06.94zm-11 1L8.5 8.5l.94-2.06 2.06-.94-2.06-.94L8.5 2.5l-.94 2.06-2.06.94zm10 10l.94 2.06.94-2.06 2.06-.94-2.06-.94-.94-2.06-.94 2.06-2.06.94z\"/><path d=\"M17.41 7.96l-1.37-1.37c-.4-.4-.92-.59-1.43-.59-.52 0-1.04.2-1.43.59L10.3 9.45l-7.72 7.72c-.78.78-.78 2.05 0 2.83L4 21.41c.39.39.9.59 1.41.59.51 0 1.02-.2 1.41-.59l7.78-7.78 2.81-2.81c.8-.78.8-2.07 0-2.86zM5.41 20L4 18.59l7.72-7.72 1.47 1.35L5.41 20z\"/>\n",
              "  </svg>\n",
              "      </button>\n",
              "      \n",
              "  <style>\n",
              "    .colab-df-container {\n",
              "      display:flex;\n",
              "      flex-wrap:wrap;\n",
              "      gap: 12px;\n",
              "    }\n",
              "\n",
              "    .colab-df-convert {\n",
              "      background-color: #E8F0FE;\n",
              "      border: none;\n",
              "      border-radius: 50%;\n",
              "      cursor: pointer;\n",
              "      display: none;\n",
              "      fill: #1967D2;\n",
              "      height: 32px;\n",
              "      padding: 0 0 0 0;\n",
              "      width: 32px;\n",
              "    }\n",
              "\n",
              "    .colab-df-convert:hover {\n",
              "      background-color: #E2EBFA;\n",
              "      box-shadow: 0px 1px 2px rgba(60, 64, 67, 0.3), 0px 1px 3px 1px rgba(60, 64, 67, 0.15);\n",
              "      fill: #174EA6;\n",
              "    }\n",
              "\n",
              "    [theme=dark] .colab-df-convert {\n",
              "      background-color: #3B4455;\n",
              "      fill: #D2E3FC;\n",
              "    }\n",
              "\n",
              "    [theme=dark] .colab-df-convert:hover {\n",
              "      background-color: #434B5C;\n",
              "      box-shadow: 0px 1px 3px 1px rgba(0, 0, 0, 0.15);\n",
              "      filter: drop-shadow(0px 1px 2px rgba(0, 0, 0, 0.3));\n",
              "      fill: #FFFFFF;\n",
              "    }\n",
              "  </style>\n",
              "\n",
              "      <script>\n",
              "        const buttonEl =\n",
              "          document.querySelector('#df-fd33270e-c0c6-46bd-a1f8-0c31a065d787 button.colab-df-convert');\n",
              "        buttonEl.style.display =\n",
              "          google.colab.kernel.accessAllowed ? 'block' : 'none';\n",
              "\n",
              "        async function convertToInteractive(key) {\n",
              "          const element = document.querySelector('#df-fd33270e-c0c6-46bd-a1f8-0c31a065d787');\n",
              "          const dataTable =\n",
              "            await google.colab.kernel.invokeFunction('convertToInteractive',\n",
              "                                                     [key], {});\n",
              "          if (!dataTable) return;\n",
              "\n",
              "          const docLinkHtml = 'Like what you see? Visit the ' +\n",
              "            '<a target=\"_blank\" href=https://colab.research.google.com/notebooks/data_table.ipynb>data table notebook</a>'\n",
              "            + ' to learn more about interactive tables.';\n",
              "          element.innerHTML = '';\n",
              "          dataTable['output_type'] = 'display_data';\n",
              "          await google.colab.output.renderOutput(dataTable, element);\n",
              "          const docLink = document.createElement('div');\n",
              "          docLink.innerHTML = docLinkHtml;\n",
              "          element.appendChild(docLink);\n",
              "        }\n",
              "      </script>\n",
              "    </div>\n",
              "  </div>\n",
              "  "
            ]
          },
          "metadata": {},
          "execution_count": 29
        }
      ]
    },
    {
      "cell_type": "code",
      "source": [
        "# najmou nzidou include=\"object\" li describe bch ntolou 3al colonnes li fehom texte\n",
        "df.describe(include=\"object\")"
      ],
      "metadata": {
        "colab": {
          "base_uri": "https://localhost:8080/",
          "height": 175
        },
        "id": "16N7SPH1l_fu",
        "outputId": "e7c16733-8dae-49a5-c1cb-743fb4b15fd2"
      },
      "execution_count": null,
      "outputs": [
        {
          "output_type": "execute_result",
          "data": {
            "text/plain": [
              "        Sex ChestPainType RestingECG ExerciseAngina ST_Slope\n",
              "count   918           918        918            918      918\n",
              "unique    2             4          3              2        3\n",
              "top       M           ASY     Normal              N     Flat\n",
              "freq    725           496        552            547      460"
            ],
            "text/html": [
              "\n",
              "  <div id=\"df-acc679a6-95c6-40e7-ba3b-4ac8326850e0\">\n",
              "    <div class=\"colab-df-container\">\n",
              "      <div>\n",
              "<style scoped>\n",
              "    .dataframe tbody tr th:only-of-type {\n",
              "        vertical-align: middle;\n",
              "    }\n",
              "\n",
              "    .dataframe tbody tr th {\n",
              "        vertical-align: top;\n",
              "    }\n",
              "\n",
              "    .dataframe thead th {\n",
              "        text-align: right;\n",
              "    }\n",
              "</style>\n",
              "<table border=\"1\" class=\"dataframe\">\n",
              "  <thead>\n",
              "    <tr style=\"text-align: right;\">\n",
              "      <th></th>\n",
              "      <th>Sex</th>\n",
              "      <th>ChestPainType</th>\n",
              "      <th>RestingECG</th>\n",
              "      <th>ExerciseAngina</th>\n",
              "      <th>ST_Slope</th>\n",
              "    </tr>\n",
              "  </thead>\n",
              "  <tbody>\n",
              "    <tr>\n",
              "      <th>count</th>\n",
              "      <td>918</td>\n",
              "      <td>918</td>\n",
              "      <td>918</td>\n",
              "      <td>918</td>\n",
              "      <td>918</td>\n",
              "    </tr>\n",
              "    <tr>\n",
              "      <th>unique</th>\n",
              "      <td>2</td>\n",
              "      <td>4</td>\n",
              "      <td>3</td>\n",
              "      <td>2</td>\n",
              "      <td>3</td>\n",
              "    </tr>\n",
              "    <tr>\n",
              "      <th>top</th>\n",
              "      <td>M</td>\n",
              "      <td>ASY</td>\n",
              "      <td>Normal</td>\n",
              "      <td>N</td>\n",
              "      <td>Flat</td>\n",
              "    </tr>\n",
              "    <tr>\n",
              "      <th>freq</th>\n",
              "      <td>725</td>\n",
              "      <td>496</td>\n",
              "      <td>552</td>\n",
              "      <td>547</td>\n",
              "      <td>460</td>\n",
              "    </tr>\n",
              "  </tbody>\n",
              "</table>\n",
              "</div>\n",
              "      <button class=\"colab-df-convert\" onclick=\"convertToInteractive('df-acc679a6-95c6-40e7-ba3b-4ac8326850e0')\"\n",
              "              title=\"Convert this dataframe to an interactive table.\"\n",
              "              style=\"display:none;\">\n",
              "        \n",
              "  <svg xmlns=\"http://www.w3.org/2000/svg\" height=\"24px\"viewBox=\"0 0 24 24\"\n",
              "       width=\"24px\">\n",
              "    <path d=\"M0 0h24v24H0V0z\" fill=\"none\"/>\n",
              "    <path d=\"M18.56 5.44l.94 2.06.94-2.06 2.06-.94-2.06-.94-.94-2.06-.94 2.06-2.06.94zm-11 1L8.5 8.5l.94-2.06 2.06-.94-2.06-.94L8.5 2.5l-.94 2.06-2.06.94zm10 10l.94 2.06.94-2.06 2.06-.94-2.06-.94-.94-2.06-.94 2.06-2.06.94z\"/><path d=\"M17.41 7.96l-1.37-1.37c-.4-.4-.92-.59-1.43-.59-.52 0-1.04.2-1.43.59L10.3 9.45l-7.72 7.72c-.78.78-.78 2.05 0 2.83L4 21.41c.39.39.9.59 1.41.59.51 0 1.02-.2 1.41-.59l7.78-7.78 2.81-2.81c.8-.78.8-2.07 0-2.86zM5.41 20L4 18.59l7.72-7.72 1.47 1.35L5.41 20z\"/>\n",
              "  </svg>\n",
              "      </button>\n",
              "      \n",
              "  <style>\n",
              "    .colab-df-container {\n",
              "      display:flex;\n",
              "      flex-wrap:wrap;\n",
              "      gap: 12px;\n",
              "    }\n",
              "\n",
              "    .colab-df-convert {\n",
              "      background-color: #E8F0FE;\n",
              "      border: none;\n",
              "      border-radius: 50%;\n",
              "      cursor: pointer;\n",
              "      display: none;\n",
              "      fill: #1967D2;\n",
              "      height: 32px;\n",
              "      padding: 0 0 0 0;\n",
              "      width: 32px;\n",
              "    }\n",
              "\n",
              "    .colab-df-convert:hover {\n",
              "      background-color: #E2EBFA;\n",
              "      box-shadow: 0px 1px 2px rgba(60, 64, 67, 0.3), 0px 1px 3px 1px rgba(60, 64, 67, 0.15);\n",
              "      fill: #174EA6;\n",
              "    }\n",
              "\n",
              "    [theme=dark] .colab-df-convert {\n",
              "      background-color: #3B4455;\n",
              "      fill: #D2E3FC;\n",
              "    }\n",
              "\n",
              "    [theme=dark] .colab-df-convert:hover {\n",
              "      background-color: #434B5C;\n",
              "      box-shadow: 0px 1px 3px 1px rgba(0, 0, 0, 0.15);\n",
              "      filter: drop-shadow(0px 1px 2px rgba(0, 0, 0, 0.3));\n",
              "      fill: #FFFFFF;\n",
              "    }\n",
              "  </style>\n",
              "\n",
              "      <script>\n",
              "        const buttonEl =\n",
              "          document.querySelector('#df-acc679a6-95c6-40e7-ba3b-4ac8326850e0 button.colab-df-convert');\n",
              "        buttonEl.style.display =\n",
              "          google.colab.kernel.accessAllowed ? 'block' : 'none';\n",
              "\n",
              "        async function convertToInteractive(key) {\n",
              "          const element = document.querySelector('#df-acc679a6-95c6-40e7-ba3b-4ac8326850e0');\n",
              "          const dataTable =\n",
              "            await google.colab.kernel.invokeFunction('convertToInteractive',\n",
              "                                                     [key], {});\n",
              "          if (!dataTable) return;\n",
              "\n",
              "          const docLinkHtml = 'Like what you see? Visit the ' +\n",
              "            '<a target=\"_blank\" href=https://colab.research.google.com/notebooks/data_table.ipynb>data table notebook</a>'\n",
              "            + ' to learn more about interactive tables.';\n",
              "          element.innerHTML = '';\n",
              "          dataTable['output_type'] = 'display_data';\n",
              "          await google.colab.output.renderOutput(dataTable, element);\n",
              "          const docLink = document.createElement('div');\n",
              "          docLink.innerHTML = docLinkHtml;\n",
              "          element.appendChild(docLink);\n",
              "        }\n",
              "      </script>\n",
              "    </div>\n",
              "  </div>\n",
              "  "
            ]
          },
          "metadata": {},
          "execution_count": 30
        }
      ]
    },
    {
      "cell_type": "code",
      "source": [
        "# najem na3ref les valeurs uniques fi une colonne avec unique()\n",
        "vals = df['ChestPainType'].unique()\n",
        "# najem na3ref 9adeh min valeur unique que nunique()\n",
        "nuni = df['ChestPainType'].nunique()\n",
        "print(\"unique values : \",vals)\n",
        "print( \"number of unique values :\",nuni)"
      ],
      "metadata": {
        "colab": {
          "base_uri": "https://localhost:8080/"
        },
        "id": "lz_ShPy5mKos",
        "outputId": "d3d020b6-ef43-4aa2-e830-4e041cb31213"
      },
      "execution_count": null,
      "outputs": [
        {
          "output_type": "stream",
          "name": "stdout",
          "text": [
            "unique values :  ['ATA' 'NAP' 'ASY' 'TA']\n",
            "number of unique values : 4\n"
          ]
        }
      ]
    },
    {
      "cell_type": "code",
      "source": [
        "df['Sex'].value_counts()"
      ],
      "metadata": {
        "colab": {
          "base_uri": "https://localhost:8080/"
        },
        "id": "aRcG1X5orYqS",
        "outputId": "86e87bb0-553d-4d63-d65d-5b7a63e575e7"
      },
      "execution_count": null,
      "outputs": [
        {
          "output_type": "execute_result",
          "data": {
            "text/plain": [
              "M    725\n",
              "F    193\n",
              "Name: Sex, dtype: int64"
            ]
          },
          "metadata": {},
          "execution_count": 32
        }
      ]
    },
    {
      "cell_type": "code",
      "source": [
        "df['ST_Slope'].value_counts()"
      ],
      "metadata": {
        "colab": {
          "base_uri": "https://localhost:8080/"
        },
        "id": "Ef28Em7Fmtd8",
        "outputId": "e07cf658-b985-4e1e-a62a-edb4705bddf3"
      },
      "execution_count": null,
      "outputs": [
        {
          "output_type": "execute_result",
          "data": {
            "text/plain": [
              "Flat    460\n",
              "Up      395\n",
              "Down     63\n",
              "Name: ST_Slope, dtype: int64"
            ]
          },
          "metadata": {},
          "execution_count": 33
        }
      ]
    },
    {
      "cell_type": "code",
      "source": [
        "TA_patients = df[ df['ST_Slope'] == \"Down\" ]\n"
      ],
      "metadata": {
        "id": "oORrj40knTQR"
      },
      "execution_count": null,
      "outputs": []
    },
    {
      "cell_type": "code",
      "source": [
        "TA_patients"
      ],
      "metadata": {
        "colab": {
          "base_uri": "https://localhost:8080/",
          "height": 424
        },
        "id": "cY2k75ZQnTyW",
        "outputId": "423c506c-ec5a-4b69-eca6-f09405336ec1"
      },
      "execution_count": null,
      "outputs": [
        {
          "output_type": "execute_result",
          "data": {
            "text/plain": [
              "     Age Sex ChestPainType  RestingBP  Cholesterol  FastingBS RestingECG  \\\n",
              "247   48   M           ASY        122          275          1         ST   \n",
              "303   62   F           ASY        120            0          1         ST   \n",
              "307   53   M           ATA        130            0          0         ST   \n",
              "309   57   M           ASY         95            0          1     Normal   \n",
              "314   53   M           ASY         80            0          0     Normal   \n",
              "..   ...  ..           ...        ...          ...        ...        ...   \n",
              "858   62   F           ASY        140          268          0        LVH   \n",
              "879   48   M           ATA        110          229          0     Normal   \n",
              "900   58   M           ASY        114          318          0         ST   \n",
              "904   56   M           ATA        120          240          0     Normal   \n",
              "907   44   M           ASY        120          169          0     Normal   \n",
              "\n",
              "     MaxHR ExerciseAngina  Oldpeak ST_Slope  HeartDisease  \n",
              "247    150              Y      2.0     Down             1  \n",
              "303    123              Y      1.7     Down             1  \n",
              "307    120              N      0.7     Down             0  \n",
              "309    182              N      0.7     Down             1  \n",
              "314    141              Y      2.0     Down             0  \n",
              "..     ...            ...      ...      ...           ...  \n",
              "858    160              N      3.6     Down             1  \n",
              "879    168              N      1.0     Down             1  \n",
              "900    140              N      4.4     Down             1  \n",
              "904    169              N      0.0     Down             0  \n",
              "907    144              Y      2.8     Down             1  \n",
              "\n",
              "[63 rows x 12 columns]"
            ],
            "text/html": [
              "\n",
              "  <div id=\"df-bb891dca-2643-4f8c-a1ba-ea2ec1ab90f4\">\n",
              "    <div class=\"colab-df-container\">\n",
              "      <div>\n",
              "<style scoped>\n",
              "    .dataframe tbody tr th:only-of-type {\n",
              "        vertical-align: middle;\n",
              "    }\n",
              "\n",
              "    .dataframe tbody tr th {\n",
              "        vertical-align: top;\n",
              "    }\n",
              "\n",
              "    .dataframe thead th {\n",
              "        text-align: right;\n",
              "    }\n",
              "</style>\n",
              "<table border=\"1\" class=\"dataframe\">\n",
              "  <thead>\n",
              "    <tr style=\"text-align: right;\">\n",
              "      <th></th>\n",
              "      <th>Age</th>\n",
              "      <th>Sex</th>\n",
              "      <th>ChestPainType</th>\n",
              "      <th>RestingBP</th>\n",
              "      <th>Cholesterol</th>\n",
              "      <th>FastingBS</th>\n",
              "      <th>RestingECG</th>\n",
              "      <th>MaxHR</th>\n",
              "      <th>ExerciseAngina</th>\n",
              "      <th>Oldpeak</th>\n",
              "      <th>ST_Slope</th>\n",
              "      <th>HeartDisease</th>\n",
              "    </tr>\n",
              "  </thead>\n",
              "  <tbody>\n",
              "    <tr>\n",
              "      <th>247</th>\n",
              "      <td>48</td>\n",
              "      <td>M</td>\n",
              "      <td>ASY</td>\n",
              "      <td>122</td>\n",
              "      <td>275</td>\n",
              "      <td>1</td>\n",
              "      <td>ST</td>\n",
              "      <td>150</td>\n",
              "      <td>Y</td>\n",
              "      <td>2.0</td>\n",
              "      <td>Down</td>\n",
              "      <td>1</td>\n",
              "    </tr>\n",
              "    <tr>\n",
              "      <th>303</th>\n",
              "      <td>62</td>\n",
              "      <td>F</td>\n",
              "      <td>ASY</td>\n",
              "      <td>120</td>\n",
              "      <td>0</td>\n",
              "      <td>1</td>\n",
              "      <td>ST</td>\n",
              "      <td>123</td>\n",
              "      <td>Y</td>\n",
              "      <td>1.7</td>\n",
              "      <td>Down</td>\n",
              "      <td>1</td>\n",
              "    </tr>\n",
              "    <tr>\n",
              "      <th>307</th>\n",
              "      <td>53</td>\n",
              "      <td>M</td>\n",
              "      <td>ATA</td>\n",
              "      <td>130</td>\n",
              "      <td>0</td>\n",
              "      <td>0</td>\n",
              "      <td>ST</td>\n",
              "      <td>120</td>\n",
              "      <td>N</td>\n",
              "      <td>0.7</td>\n",
              "      <td>Down</td>\n",
              "      <td>0</td>\n",
              "    </tr>\n",
              "    <tr>\n",
              "      <th>309</th>\n",
              "      <td>57</td>\n",
              "      <td>M</td>\n",
              "      <td>ASY</td>\n",
              "      <td>95</td>\n",
              "      <td>0</td>\n",
              "      <td>1</td>\n",
              "      <td>Normal</td>\n",
              "      <td>182</td>\n",
              "      <td>N</td>\n",
              "      <td>0.7</td>\n",
              "      <td>Down</td>\n",
              "      <td>1</td>\n",
              "    </tr>\n",
              "    <tr>\n",
              "      <th>314</th>\n",
              "      <td>53</td>\n",
              "      <td>M</td>\n",
              "      <td>ASY</td>\n",
              "      <td>80</td>\n",
              "      <td>0</td>\n",
              "      <td>0</td>\n",
              "      <td>Normal</td>\n",
              "      <td>141</td>\n",
              "      <td>Y</td>\n",
              "      <td>2.0</td>\n",
              "      <td>Down</td>\n",
              "      <td>0</td>\n",
              "    </tr>\n",
              "    <tr>\n",
              "      <th>...</th>\n",
              "      <td>...</td>\n",
              "      <td>...</td>\n",
              "      <td>...</td>\n",
              "      <td>...</td>\n",
              "      <td>...</td>\n",
              "      <td>...</td>\n",
              "      <td>...</td>\n",
              "      <td>...</td>\n",
              "      <td>...</td>\n",
              "      <td>...</td>\n",
              "      <td>...</td>\n",
              "      <td>...</td>\n",
              "    </tr>\n",
              "    <tr>\n",
              "      <th>858</th>\n",
              "      <td>62</td>\n",
              "      <td>F</td>\n",
              "      <td>ASY</td>\n",
              "      <td>140</td>\n",
              "      <td>268</td>\n",
              "      <td>0</td>\n",
              "      <td>LVH</td>\n",
              "      <td>160</td>\n",
              "      <td>N</td>\n",
              "      <td>3.6</td>\n",
              "      <td>Down</td>\n",
              "      <td>1</td>\n",
              "    </tr>\n",
              "    <tr>\n",
              "      <th>879</th>\n",
              "      <td>48</td>\n",
              "      <td>M</td>\n",
              "      <td>ATA</td>\n",
              "      <td>110</td>\n",
              "      <td>229</td>\n",
              "      <td>0</td>\n",
              "      <td>Normal</td>\n",
              "      <td>168</td>\n",
              "      <td>N</td>\n",
              "      <td>1.0</td>\n",
              "      <td>Down</td>\n",
              "      <td>1</td>\n",
              "    </tr>\n",
              "    <tr>\n",
              "      <th>900</th>\n",
              "      <td>58</td>\n",
              "      <td>M</td>\n",
              "      <td>ASY</td>\n",
              "      <td>114</td>\n",
              "      <td>318</td>\n",
              "      <td>0</td>\n",
              "      <td>ST</td>\n",
              "      <td>140</td>\n",
              "      <td>N</td>\n",
              "      <td>4.4</td>\n",
              "      <td>Down</td>\n",
              "      <td>1</td>\n",
              "    </tr>\n",
              "    <tr>\n",
              "      <th>904</th>\n",
              "      <td>56</td>\n",
              "      <td>M</td>\n",
              "      <td>ATA</td>\n",
              "      <td>120</td>\n",
              "      <td>240</td>\n",
              "      <td>0</td>\n",
              "      <td>Normal</td>\n",
              "      <td>169</td>\n",
              "      <td>N</td>\n",
              "      <td>0.0</td>\n",
              "      <td>Down</td>\n",
              "      <td>0</td>\n",
              "    </tr>\n",
              "    <tr>\n",
              "      <th>907</th>\n",
              "      <td>44</td>\n",
              "      <td>M</td>\n",
              "      <td>ASY</td>\n",
              "      <td>120</td>\n",
              "      <td>169</td>\n",
              "      <td>0</td>\n",
              "      <td>Normal</td>\n",
              "      <td>144</td>\n",
              "      <td>Y</td>\n",
              "      <td>2.8</td>\n",
              "      <td>Down</td>\n",
              "      <td>1</td>\n",
              "    </tr>\n",
              "  </tbody>\n",
              "</table>\n",
              "<p>63 rows × 12 columns</p>\n",
              "</div>\n",
              "      <button class=\"colab-df-convert\" onclick=\"convertToInteractive('df-bb891dca-2643-4f8c-a1ba-ea2ec1ab90f4')\"\n",
              "              title=\"Convert this dataframe to an interactive table.\"\n",
              "              style=\"display:none;\">\n",
              "        \n",
              "  <svg xmlns=\"http://www.w3.org/2000/svg\" height=\"24px\"viewBox=\"0 0 24 24\"\n",
              "       width=\"24px\">\n",
              "    <path d=\"M0 0h24v24H0V0z\" fill=\"none\"/>\n",
              "    <path d=\"M18.56 5.44l.94 2.06.94-2.06 2.06-.94-2.06-.94-.94-2.06-.94 2.06-2.06.94zm-11 1L8.5 8.5l.94-2.06 2.06-.94-2.06-.94L8.5 2.5l-.94 2.06-2.06.94zm10 10l.94 2.06.94-2.06 2.06-.94-2.06-.94-.94-2.06-.94 2.06-2.06.94z\"/><path d=\"M17.41 7.96l-1.37-1.37c-.4-.4-.92-.59-1.43-.59-.52 0-1.04.2-1.43.59L10.3 9.45l-7.72 7.72c-.78.78-.78 2.05 0 2.83L4 21.41c.39.39.9.59 1.41.59.51 0 1.02-.2 1.41-.59l7.78-7.78 2.81-2.81c.8-.78.8-2.07 0-2.86zM5.41 20L4 18.59l7.72-7.72 1.47 1.35L5.41 20z\"/>\n",
              "  </svg>\n",
              "      </button>\n",
              "      \n",
              "  <style>\n",
              "    .colab-df-container {\n",
              "      display:flex;\n",
              "      flex-wrap:wrap;\n",
              "      gap: 12px;\n",
              "    }\n",
              "\n",
              "    .colab-df-convert {\n",
              "      background-color: #E8F0FE;\n",
              "      border: none;\n",
              "      border-radius: 50%;\n",
              "      cursor: pointer;\n",
              "      display: none;\n",
              "      fill: #1967D2;\n",
              "      height: 32px;\n",
              "      padding: 0 0 0 0;\n",
              "      width: 32px;\n",
              "    }\n",
              "\n",
              "    .colab-df-convert:hover {\n",
              "      background-color: #E2EBFA;\n",
              "      box-shadow: 0px 1px 2px rgba(60, 64, 67, 0.3), 0px 1px 3px 1px rgba(60, 64, 67, 0.15);\n",
              "      fill: #174EA6;\n",
              "    }\n",
              "\n",
              "    [theme=dark] .colab-df-convert {\n",
              "      background-color: #3B4455;\n",
              "      fill: #D2E3FC;\n",
              "    }\n",
              "\n",
              "    [theme=dark] .colab-df-convert:hover {\n",
              "      background-color: #434B5C;\n",
              "      box-shadow: 0px 1px 3px 1px rgba(0, 0, 0, 0.15);\n",
              "      filter: drop-shadow(0px 1px 2px rgba(0, 0, 0, 0.3));\n",
              "      fill: #FFFFFF;\n",
              "    }\n",
              "  </style>\n",
              "\n",
              "      <script>\n",
              "        const buttonEl =\n",
              "          document.querySelector('#df-bb891dca-2643-4f8c-a1ba-ea2ec1ab90f4 button.colab-df-convert');\n",
              "        buttonEl.style.display =\n",
              "          google.colab.kernel.accessAllowed ? 'block' : 'none';\n",
              "\n",
              "        async function convertToInteractive(key) {\n",
              "          const element = document.querySelector('#df-bb891dca-2643-4f8c-a1ba-ea2ec1ab90f4');\n",
              "          const dataTable =\n",
              "            await google.colab.kernel.invokeFunction('convertToInteractive',\n",
              "                                                     [key], {});\n",
              "          if (!dataTable) return;\n",
              "\n",
              "          const docLinkHtml = 'Like what you see? Visit the ' +\n",
              "            '<a target=\"_blank\" href=https://colab.research.google.com/notebooks/data_table.ipynb>data table notebook</a>'\n",
              "            + ' to learn more about interactive tables.';\n",
              "          element.innerHTML = '';\n",
              "          dataTable['output_type'] = 'display_data';\n",
              "          await google.colab.output.renderOutput(dataTable, element);\n",
              "          const docLink = document.createElement('div');\n",
              "          docLink.innerHTML = docLinkHtml;\n",
              "          element.appendChild(docLink);\n",
              "        }\n",
              "      </script>\n",
              "    </div>\n",
              "  </div>\n",
              "  "
            ]
          },
          "metadata": {},
          "execution_count": 35
        }
      ]
    },
    {
      "cell_type": "code",
      "source": [
        "# filtering li howa ya3ni raja3li il jme3a ili 3andhom haka wala haka\n",
        "\n",
        "adults = df[ df['Age'] > 50 ]\n"
      ],
      "metadata": {
        "id": "fZckONi9oQ9O"
      },
      "execution_count": null,
      "outputs": []
    },
    {
      "cell_type": "code",
      "source": [
        "# filtering bou barcha conditions juste nzidou & (et) wala | (ou) mabinhom \n",
        "# w nhotou kol condition fi prenthèse\n",
        "df[ (df['ST_Slope'] == \"Up\") & (df['Age'] >50 ) ]"
      ],
      "metadata": {
        "id": "liCYvLXjm0ti",
        "colab": {
          "base_uri": "https://localhost:8080/",
          "height": 424
        },
        "outputId": "feee4747-cf63-4ee4-f81f-f9b7a850350c"
      },
      "execution_count": null,
      "outputs": [
        {
          "output_type": "execute_result",
          "data": {
            "text/plain": [
              "     Age Sex ChestPainType  RestingBP  Cholesterol  FastingBS RestingECG  \\\n",
              "4     54   M           NAP        150          195          0     Normal   \n",
              "7     54   M           ATA        110          208          0     Normal   \n",
              "27    52   M           ATA        120          284          0     Normal   \n",
              "28    53   F           ATA        113          468          0     Normal   \n",
              "29    51   M           ATA        125          188          0     Normal   \n",
              "..   ...  ..           ...        ...          ...        ...        ...   \n",
              "893   57   M           ATA        154          232          0        LVH   \n",
              "899   61   M           ASY        148          203          0     Normal   \n",
              "903   56   M           ATA        130          221          0        LVH   \n",
              "906   55   F           ATA        132          342          0     Normal   \n",
              "908   63   M           ASY        140          187          0        LVH   \n",
              "\n",
              "     MaxHR ExerciseAngina  Oldpeak ST_Slope  HeartDisease  \n",
              "4      122              N      0.0       Up             0  \n",
              "7      142              N      0.0       Up             0  \n",
              "27     118              N      0.0       Up             0  \n",
              "28     127              N      0.0       Up             0  \n",
              "29     145              N      0.0       Up             0  \n",
              "..     ...            ...      ...      ...           ...  \n",
              "893    164              N      0.0       Up             1  \n",
              "899    161              N      0.0       Up             1  \n",
              "903    163              N      0.0       Up             0  \n",
              "906    166              N      1.2       Up             0  \n",
              "908    144              Y      4.0       Up             1  \n",
              "\n",
              "[215 rows x 12 columns]"
            ],
            "text/html": [
              "\n",
              "  <div id=\"df-bfee6ccb-92c0-489b-a860-1b98248deed2\">\n",
              "    <div class=\"colab-df-container\">\n",
              "      <div>\n",
              "<style scoped>\n",
              "    .dataframe tbody tr th:only-of-type {\n",
              "        vertical-align: middle;\n",
              "    }\n",
              "\n",
              "    .dataframe tbody tr th {\n",
              "        vertical-align: top;\n",
              "    }\n",
              "\n",
              "    .dataframe thead th {\n",
              "        text-align: right;\n",
              "    }\n",
              "</style>\n",
              "<table border=\"1\" class=\"dataframe\">\n",
              "  <thead>\n",
              "    <tr style=\"text-align: right;\">\n",
              "      <th></th>\n",
              "      <th>Age</th>\n",
              "      <th>Sex</th>\n",
              "      <th>ChestPainType</th>\n",
              "      <th>RestingBP</th>\n",
              "      <th>Cholesterol</th>\n",
              "      <th>FastingBS</th>\n",
              "      <th>RestingECG</th>\n",
              "      <th>MaxHR</th>\n",
              "      <th>ExerciseAngina</th>\n",
              "      <th>Oldpeak</th>\n",
              "      <th>ST_Slope</th>\n",
              "      <th>HeartDisease</th>\n",
              "    </tr>\n",
              "  </thead>\n",
              "  <tbody>\n",
              "    <tr>\n",
              "      <th>4</th>\n",
              "      <td>54</td>\n",
              "      <td>M</td>\n",
              "      <td>NAP</td>\n",
              "      <td>150</td>\n",
              "      <td>195</td>\n",
              "      <td>0</td>\n",
              "      <td>Normal</td>\n",
              "      <td>122</td>\n",
              "      <td>N</td>\n",
              "      <td>0.0</td>\n",
              "      <td>Up</td>\n",
              "      <td>0</td>\n",
              "    </tr>\n",
              "    <tr>\n",
              "      <th>7</th>\n",
              "      <td>54</td>\n",
              "      <td>M</td>\n",
              "      <td>ATA</td>\n",
              "      <td>110</td>\n",
              "      <td>208</td>\n",
              "      <td>0</td>\n",
              "      <td>Normal</td>\n",
              "      <td>142</td>\n",
              "      <td>N</td>\n",
              "      <td>0.0</td>\n",
              "      <td>Up</td>\n",
              "      <td>0</td>\n",
              "    </tr>\n",
              "    <tr>\n",
              "      <th>27</th>\n",
              "      <td>52</td>\n",
              "      <td>M</td>\n",
              "      <td>ATA</td>\n",
              "      <td>120</td>\n",
              "      <td>284</td>\n",
              "      <td>0</td>\n",
              "      <td>Normal</td>\n",
              "      <td>118</td>\n",
              "      <td>N</td>\n",
              "      <td>0.0</td>\n",
              "      <td>Up</td>\n",
              "      <td>0</td>\n",
              "    </tr>\n",
              "    <tr>\n",
              "      <th>28</th>\n",
              "      <td>53</td>\n",
              "      <td>F</td>\n",
              "      <td>ATA</td>\n",
              "      <td>113</td>\n",
              "      <td>468</td>\n",
              "      <td>0</td>\n",
              "      <td>Normal</td>\n",
              "      <td>127</td>\n",
              "      <td>N</td>\n",
              "      <td>0.0</td>\n",
              "      <td>Up</td>\n",
              "      <td>0</td>\n",
              "    </tr>\n",
              "    <tr>\n",
              "      <th>29</th>\n",
              "      <td>51</td>\n",
              "      <td>M</td>\n",
              "      <td>ATA</td>\n",
              "      <td>125</td>\n",
              "      <td>188</td>\n",
              "      <td>0</td>\n",
              "      <td>Normal</td>\n",
              "      <td>145</td>\n",
              "      <td>N</td>\n",
              "      <td>0.0</td>\n",
              "      <td>Up</td>\n",
              "      <td>0</td>\n",
              "    </tr>\n",
              "    <tr>\n",
              "      <th>...</th>\n",
              "      <td>...</td>\n",
              "      <td>...</td>\n",
              "      <td>...</td>\n",
              "      <td>...</td>\n",
              "      <td>...</td>\n",
              "      <td>...</td>\n",
              "      <td>...</td>\n",
              "      <td>...</td>\n",
              "      <td>...</td>\n",
              "      <td>...</td>\n",
              "      <td>...</td>\n",
              "      <td>...</td>\n",
              "    </tr>\n",
              "    <tr>\n",
              "      <th>893</th>\n",
              "      <td>57</td>\n",
              "      <td>M</td>\n",
              "      <td>ATA</td>\n",
              "      <td>154</td>\n",
              "      <td>232</td>\n",
              "      <td>0</td>\n",
              "      <td>LVH</td>\n",
              "      <td>164</td>\n",
              "      <td>N</td>\n",
              "      <td>0.0</td>\n",
              "      <td>Up</td>\n",
              "      <td>1</td>\n",
              "    </tr>\n",
              "    <tr>\n",
              "      <th>899</th>\n",
              "      <td>61</td>\n",
              "      <td>M</td>\n",
              "      <td>ASY</td>\n",
              "      <td>148</td>\n",
              "      <td>203</td>\n",
              "      <td>0</td>\n",
              "      <td>Normal</td>\n",
              "      <td>161</td>\n",
              "      <td>N</td>\n",
              "      <td>0.0</td>\n",
              "      <td>Up</td>\n",
              "      <td>1</td>\n",
              "    </tr>\n",
              "    <tr>\n",
              "      <th>903</th>\n",
              "      <td>56</td>\n",
              "      <td>M</td>\n",
              "      <td>ATA</td>\n",
              "      <td>130</td>\n",
              "      <td>221</td>\n",
              "      <td>0</td>\n",
              "      <td>LVH</td>\n",
              "      <td>163</td>\n",
              "      <td>N</td>\n",
              "      <td>0.0</td>\n",
              "      <td>Up</td>\n",
              "      <td>0</td>\n",
              "    </tr>\n",
              "    <tr>\n",
              "      <th>906</th>\n",
              "      <td>55</td>\n",
              "      <td>F</td>\n",
              "      <td>ATA</td>\n",
              "      <td>132</td>\n",
              "      <td>342</td>\n",
              "      <td>0</td>\n",
              "      <td>Normal</td>\n",
              "      <td>166</td>\n",
              "      <td>N</td>\n",
              "      <td>1.2</td>\n",
              "      <td>Up</td>\n",
              "      <td>0</td>\n",
              "    </tr>\n",
              "    <tr>\n",
              "      <th>908</th>\n",
              "      <td>63</td>\n",
              "      <td>M</td>\n",
              "      <td>ASY</td>\n",
              "      <td>140</td>\n",
              "      <td>187</td>\n",
              "      <td>0</td>\n",
              "      <td>LVH</td>\n",
              "      <td>144</td>\n",
              "      <td>Y</td>\n",
              "      <td>4.0</td>\n",
              "      <td>Up</td>\n",
              "      <td>1</td>\n",
              "    </tr>\n",
              "  </tbody>\n",
              "</table>\n",
              "<p>215 rows × 12 columns</p>\n",
              "</div>\n",
              "      <button class=\"colab-df-convert\" onclick=\"convertToInteractive('df-bfee6ccb-92c0-489b-a860-1b98248deed2')\"\n",
              "              title=\"Convert this dataframe to an interactive table.\"\n",
              "              style=\"display:none;\">\n",
              "        \n",
              "  <svg xmlns=\"http://www.w3.org/2000/svg\" height=\"24px\"viewBox=\"0 0 24 24\"\n",
              "       width=\"24px\">\n",
              "    <path d=\"M0 0h24v24H0V0z\" fill=\"none\"/>\n",
              "    <path d=\"M18.56 5.44l.94 2.06.94-2.06 2.06-.94-2.06-.94-.94-2.06-.94 2.06-2.06.94zm-11 1L8.5 8.5l.94-2.06 2.06-.94-2.06-.94L8.5 2.5l-.94 2.06-2.06.94zm10 10l.94 2.06.94-2.06 2.06-.94-2.06-.94-.94-2.06-.94 2.06-2.06.94z\"/><path d=\"M17.41 7.96l-1.37-1.37c-.4-.4-.92-.59-1.43-.59-.52 0-1.04.2-1.43.59L10.3 9.45l-7.72 7.72c-.78.78-.78 2.05 0 2.83L4 21.41c.39.39.9.59 1.41.59.51 0 1.02-.2 1.41-.59l7.78-7.78 2.81-2.81c.8-.78.8-2.07 0-2.86zM5.41 20L4 18.59l7.72-7.72 1.47 1.35L5.41 20z\"/>\n",
              "  </svg>\n",
              "      </button>\n",
              "      \n",
              "  <style>\n",
              "    .colab-df-container {\n",
              "      display:flex;\n",
              "      flex-wrap:wrap;\n",
              "      gap: 12px;\n",
              "    }\n",
              "\n",
              "    .colab-df-convert {\n",
              "      background-color: #E8F0FE;\n",
              "      border: none;\n",
              "      border-radius: 50%;\n",
              "      cursor: pointer;\n",
              "      display: none;\n",
              "      fill: #1967D2;\n",
              "      height: 32px;\n",
              "      padding: 0 0 0 0;\n",
              "      width: 32px;\n",
              "    }\n",
              "\n",
              "    .colab-df-convert:hover {\n",
              "      background-color: #E2EBFA;\n",
              "      box-shadow: 0px 1px 2px rgba(60, 64, 67, 0.3), 0px 1px 3px 1px rgba(60, 64, 67, 0.15);\n",
              "      fill: #174EA6;\n",
              "    }\n",
              "\n",
              "    [theme=dark] .colab-df-convert {\n",
              "      background-color: #3B4455;\n",
              "      fill: #D2E3FC;\n",
              "    }\n",
              "\n",
              "    [theme=dark] .colab-df-convert:hover {\n",
              "      background-color: #434B5C;\n",
              "      box-shadow: 0px 1px 3px 1px rgba(0, 0, 0, 0.15);\n",
              "      filter: drop-shadow(0px 1px 2px rgba(0, 0, 0, 0.3));\n",
              "      fill: #FFFFFF;\n",
              "    }\n",
              "  </style>\n",
              "\n",
              "      <script>\n",
              "        const buttonEl =\n",
              "          document.querySelector('#df-bfee6ccb-92c0-489b-a860-1b98248deed2 button.colab-df-convert');\n",
              "        buttonEl.style.display =\n",
              "          google.colab.kernel.accessAllowed ? 'block' : 'none';\n",
              "\n",
              "        async function convertToInteractive(key) {\n",
              "          const element = document.querySelector('#df-bfee6ccb-92c0-489b-a860-1b98248deed2');\n",
              "          const dataTable =\n",
              "            await google.colab.kernel.invokeFunction('convertToInteractive',\n",
              "                                                     [key], {});\n",
              "          if (!dataTable) return;\n",
              "\n",
              "          const docLinkHtml = 'Like what you see? Visit the ' +\n",
              "            '<a target=\"_blank\" href=https://colab.research.google.com/notebooks/data_table.ipynb>data table notebook</a>'\n",
              "            + ' to learn more about interactive tables.';\n",
              "          element.innerHTML = '';\n",
              "          dataTable['output_type'] = 'display_data';\n",
              "          await google.colab.output.renderOutput(dataTable, element);\n",
              "          const docLink = document.createElement('div');\n",
              "          docLink.innerHTML = docLinkHtml;\n",
              "          element.appendChild(docLink);\n",
              "        }\n",
              "      </script>\n",
              "    </div>\n",
              "  </div>\n",
              "  "
            ]
          },
          "metadata": {},
          "execution_count": 37
        }
      ]
    },
    {
      "cell_type": "code",
      "metadata": {
        "id": "Onvxu2PJv0QX",
        "colab": {
          "base_uri": "https://localhost:8080/"
        },
        "outputId": "aa69b1b7-6f48-49ce-b4fd-b1d4af186008"
      },
      "source": [
        "df.isnull().sum()"
      ],
      "execution_count": null,
      "outputs": [
        {
          "output_type": "execute_result",
          "data": {
            "text/plain": [
              "Age               0\n",
              "Sex               0\n",
              "ChestPainType     0\n",
              "RestingBP         0\n",
              "Cholesterol       0\n",
              "FastingBS         0\n",
              "RestingECG        0\n",
              "MaxHR             0\n",
              "ExerciseAngina    0\n",
              "Oldpeak           0\n",
              "ST_Slope          0\n",
              "HeartDisease      0\n",
              "dtype: int64"
            ]
          },
          "metadata": {},
          "execution_count": 38
        }
      ]
    },
    {
      "cell_type": "markdown",
      "source": [
        "##handling missing values \n",
        "- Deleting \n",
        "- Imputing the Missing Value\n",
        "\n",
        "\n",
        "There are 2 ways one can delete the missing values:\n",
        "\n",
        "1. Deleting the entire row\n",
        "\n",
        "  If a row has many missing values then you can choose to drop the entire row.\n",
        "\n",
        "2. Deleting the entire column\n",
        "\n",
        "  If a certain column has many missing values then you can choose to drop the entire column.\n",
        "\n",
        "for more information : https://www.analyticsvidhya.com/blog/2021/10/handling-missing-value/ "
      ],
      "metadata": {
        "id": "ykMHkwqBpeIz"
      }
    },
    {
      "cell_type": "code",
      "source": [
        "df.isnull().sum()"
      ],
      "metadata": {
        "colab": {
          "base_uri": "https://localhost:8080/"
        },
        "id": "TObN-c0xoDRl",
        "outputId": "80db0914-2440-4d0c-9708-8e43655f775f"
      },
      "execution_count": null,
      "outputs": [
        {
          "output_type": "execute_result",
          "data": {
            "text/plain": [
              "Age               0\n",
              "Sex               0\n",
              "ChestPainType     0\n",
              "RestingBP         0\n",
              "Cholesterol       0\n",
              "FastingBS         0\n",
              "RestingECG        0\n",
              "MaxHR             0\n",
              "ExerciseAngina    0\n",
              "Oldpeak           0\n",
              "ST_Slope          0\n",
              "HeartDisease      0\n",
              "dtype: int64"
            ]
          },
          "metadata": {},
          "execution_count": 39
        }
      ]
    },
    {
      "cell_type": "code",
      "source": [
        "#Deleting the entire row\n",
        "df = df.dropna(axis=0)"
      ],
      "metadata": {
        "id": "BdcvVXsbpYlC"
      },
      "execution_count": null,
      "outputs": []
    },
    {
      "cell_type": "code",
      "source": [
        "#Deleting the entire column\n",
        "#df = df.drop(['RestingECG'],axis=1)"
      ],
      "metadata": {
        "id": "KIxqOR1Lql2T"
      },
      "execution_count": null,
      "outputs": []
    },
    {
      "cell_type": "code",
      "source": [
        "#Replace the missing value with random value for example '0' using 'fillna' method\n",
        "df['Age'] = df['Age'].fillna(0)\n",
        "\n",
        "#Replace the missing values for numerical columns with mean (the most obvious)\n",
        "df['Age'] = df['Age'].fillna(df['Age'].mean())\n",
        "\n",
        "#Median is the middlemost value. It’s better to use the median value for imputation in the case of outliers.\n",
        "df['Age'] = df['Age'].fillna(df['Age'].median()) \n",
        "\n",
        "#Mode is the most frequently occurring value. It is used in the case of categorical features.\n",
        "df['RestingECG'] = df['RestingECG'].fillna(df['RestingECG'].mode()) "
      ],
      "metadata": {
        "id": "bS8qupR6r-BR"
      },
      "execution_count": null,
      "outputs": []
    },
    {
      "cell_type": "code",
      "source": [
        "# Check if there are any duplicates\n",
        "df[ df.duplicated()]"
      ],
      "metadata": {
        "colab": {
          "base_uri": "https://localhost:8080/",
          "height": 49
        },
        "id": "QSSOySAOxLiz",
        "outputId": "262a443b-65f9-441a-9ec3-5f30346e46e9"
      },
      "execution_count": null,
      "outputs": [
        {
          "output_type": "execute_result",
          "data": {
            "text/plain": [
              "Empty DataFrame\n",
              "Columns: [Age, Sex, ChestPainType, RestingBP, Cholesterol, FastingBS, RestingECG, MaxHR, ExerciseAngina, Oldpeak, ST_Slope, HeartDisease]\n",
              "Index: []"
            ],
            "text/html": [
              "\n",
              "  <div id=\"df-55ae970a-3077-41f5-82a8-a1babbaac346\">\n",
              "    <div class=\"colab-df-container\">\n",
              "      <div>\n",
              "<style scoped>\n",
              "    .dataframe tbody tr th:only-of-type {\n",
              "        vertical-align: middle;\n",
              "    }\n",
              "\n",
              "    .dataframe tbody tr th {\n",
              "        vertical-align: top;\n",
              "    }\n",
              "\n",
              "    .dataframe thead th {\n",
              "        text-align: right;\n",
              "    }\n",
              "</style>\n",
              "<table border=\"1\" class=\"dataframe\">\n",
              "  <thead>\n",
              "    <tr style=\"text-align: right;\">\n",
              "      <th></th>\n",
              "      <th>Age</th>\n",
              "      <th>Sex</th>\n",
              "      <th>ChestPainType</th>\n",
              "      <th>RestingBP</th>\n",
              "      <th>Cholesterol</th>\n",
              "      <th>FastingBS</th>\n",
              "      <th>RestingECG</th>\n",
              "      <th>MaxHR</th>\n",
              "      <th>ExerciseAngina</th>\n",
              "      <th>Oldpeak</th>\n",
              "      <th>ST_Slope</th>\n",
              "      <th>HeartDisease</th>\n",
              "    </tr>\n",
              "  </thead>\n",
              "  <tbody>\n",
              "  </tbody>\n",
              "</table>\n",
              "</div>\n",
              "      <button class=\"colab-df-convert\" onclick=\"convertToInteractive('df-55ae970a-3077-41f5-82a8-a1babbaac346')\"\n",
              "              title=\"Convert this dataframe to an interactive table.\"\n",
              "              style=\"display:none;\">\n",
              "        \n",
              "  <svg xmlns=\"http://www.w3.org/2000/svg\" height=\"24px\"viewBox=\"0 0 24 24\"\n",
              "       width=\"24px\">\n",
              "    <path d=\"M0 0h24v24H0V0z\" fill=\"none\"/>\n",
              "    <path d=\"M18.56 5.44l.94 2.06.94-2.06 2.06-.94-2.06-.94-.94-2.06-.94 2.06-2.06.94zm-11 1L8.5 8.5l.94-2.06 2.06-.94-2.06-.94L8.5 2.5l-.94 2.06-2.06.94zm10 10l.94 2.06.94-2.06 2.06-.94-2.06-.94-.94-2.06-.94 2.06-2.06.94z\"/><path d=\"M17.41 7.96l-1.37-1.37c-.4-.4-.92-.59-1.43-.59-.52 0-1.04.2-1.43.59L10.3 9.45l-7.72 7.72c-.78.78-.78 2.05 0 2.83L4 21.41c.39.39.9.59 1.41.59.51 0 1.02-.2 1.41-.59l7.78-7.78 2.81-2.81c.8-.78.8-2.07 0-2.86zM5.41 20L4 18.59l7.72-7.72 1.47 1.35L5.41 20z\"/>\n",
              "  </svg>\n",
              "      </button>\n",
              "      \n",
              "  <style>\n",
              "    .colab-df-container {\n",
              "      display:flex;\n",
              "      flex-wrap:wrap;\n",
              "      gap: 12px;\n",
              "    }\n",
              "\n",
              "    .colab-df-convert {\n",
              "      background-color: #E8F0FE;\n",
              "      border: none;\n",
              "      border-radius: 50%;\n",
              "      cursor: pointer;\n",
              "      display: none;\n",
              "      fill: #1967D2;\n",
              "      height: 32px;\n",
              "      padding: 0 0 0 0;\n",
              "      width: 32px;\n",
              "    }\n",
              "\n",
              "    .colab-df-convert:hover {\n",
              "      background-color: #E2EBFA;\n",
              "      box-shadow: 0px 1px 2px rgba(60, 64, 67, 0.3), 0px 1px 3px 1px rgba(60, 64, 67, 0.15);\n",
              "      fill: #174EA6;\n",
              "    }\n",
              "\n",
              "    [theme=dark] .colab-df-convert {\n",
              "      background-color: #3B4455;\n",
              "      fill: #D2E3FC;\n",
              "    }\n",
              "\n",
              "    [theme=dark] .colab-df-convert:hover {\n",
              "      background-color: #434B5C;\n",
              "      box-shadow: 0px 1px 3px 1px rgba(0, 0, 0, 0.15);\n",
              "      filter: drop-shadow(0px 1px 2px rgba(0, 0, 0, 0.3));\n",
              "      fill: #FFFFFF;\n",
              "    }\n",
              "  </style>\n",
              "\n",
              "      <script>\n",
              "        const buttonEl =\n",
              "          document.querySelector('#df-55ae970a-3077-41f5-82a8-a1babbaac346 button.colab-df-convert');\n",
              "        buttonEl.style.display =\n",
              "          google.colab.kernel.accessAllowed ? 'block' : 'none';\n",
              "\n",
              "        async function convertToInteractive(key) {\n",
              "          const element = document.querySelector('#df-55ae970a-3077-41f5-82a8-a1babbaac346');\n",
              "          const dataTable =\n",
              "            await google.colab.kernel.invokeFunction('convertToInteractive',\n",
              "                                                     [key], {});\n",
              "          if (!dataTable) return;\n",
              "\n",
              "          const docLinkHtml = 'Like what you see? Visit the ' +\n",
              "            '<a target=\"_blank\" href=https://colab.research.google.com/notebooks/data_table.ipynb>data table notebook</a>'\n",
              "            + ' to learn more about interactive tables.';\n",
              "          element.innerHTML = '';\n",
              "          dataTable['output_type'] = 'display_data';\n",
              "          await google.colab.output.renderOutput(dataTable, element);\n",
              "          const docLink = document.createElement('div');\n",
              "          docLink.innerHTML = docLinkHtml;\n",
              "          element.appendChild(docLink);\n",
              "        }\n",
              "      </script>\n",
              "    </div>\n",
              "  </div>\n",
              "  "
            ]
          },
          "metadata": {},
          "execution_count": 43
        }
      ]
    },
    {
      "cell_type": "code",
      "source": [
        "#drop duplicated rows\n",
        "df.drop_duplicates()"
      ],
      "metadata": {
        "id": "1SfoC96Gxsim",
        "colab": {
          "base_uri": "https://localhost:8080/",
          "height": 487
        },
        "outputId": "97a91c42-5489-4b4a-c1b6-0c07cf70528d"
      },
      "execution_count": null,
      "outputs": [
        {
          "output_type": "execute_result",
          "data": {
            "text/plain": [
              "     Age Sex ChestPainType  RestingBP  Cholesterol  FastingBS  MaxHR  \\\n",
              "0     40   M           ATA        140          289          0    172   \n",
              "1     49   F           NAP        160          180          0    156   \n",
              "2     37   M           ATA        130          283          0     98   \n",
              "3     48   F           ASY        138          214          0    108   \n",
              "4     54   M           NAP        150          195          0    122   \n",
              "..   ...  ..           ...        ...          ...        ...    ...   \n",
              "913   45   M            TA        110          264          0    132   \n",
              "914   68   M           ASY        144          193          1    141   \n",
              "915   57   M           ASY        130          131          0    115   \n",
              "916   57   F           ATA        130          236          0    174   \n",
              "917   38   M           NAP        138          175          0    173   \n",
              "\n",
              "    ExerciseAngina  Oldpeak ST_Slope  HeartDisease  \n",
              "0                N      0.0       Up             0  \n",
              "1                N      1.0     Flat             1  \n",
              "2                N      0.0       Up             0  \n",
              "3                Y      1.5     Flat             1  \n",
              "4                N      0.0       Up             0  \n",
              "..             ...      ...      ...           ...  \n",
              "913              N      1.2     Flat             1  \n",
              "914              N      3.4     Flat             1  \n",
              "915              Y      1.2     Flat             1  \n",
              "916              N      0.0     Flat             1  \n",
              "917              N      0.0       Up             0  \n",
              "\n",
              "[917 rows x 11 columns]"
            ],
            "text/html": [
              "\n",
              "  <div id=\"df-7fadc254-6857-40a3-8e79-fe13a194dd92\">\n",
              "    <div class=\"colab-df-container\">\n",
              "      <div>\n",
              "<style scoped>\n",
              "    .dataframe tbody tr th:only-of-type {\n",
              "        vertical-align: middle;\n",
              "    }\n",
              "\n",
              "    .dataframe tbody tr th {\n",
              "        vertical-align: top;\n",
              "    }\n",
              "\n",
              "    .dataframe thead th {\n",
              "        text-align: right;\n",
              "    }\n",
              "</style>\n",
              "<table border=\"1\" class=\"dataframe\">\n",
              "  <thead>\n",
              "    <tr style=\"text-align: right;\">\n",
              "      <th></th>\n",
              "      <th>Age</th>\n",
              "      <th>Sex</th>\n",
              "      <th>ChestPainType</th>\n",
              "      <th>RestingBP</th>\n",
              "      <th>Cholesterol</th>\n",
              "      <th>FastingBS</th>\n",
              "      <th>MaxHR</th>\n",
              "      <th>ExerciseAngina</th>\n",
              "      <th>Oldpeak</th>\n",
              "      <th>ST_Slope</th>\n",
              "      <th>HeartDisease</th>\n",
              "    </tr>\n",
              "  </thead>\n",
              "  <tbody>\n",
              "    <tr>\n",
              "      <th>0</th>\n",
              "      <td>40</td>\n",
              "      <td>M</td>\n",
              "      <td>ATA</td>\n",
              "      <td>140</td>\n",
              "      <td>289</td>\n",
              "      <td>0</td>\n",
              "      <td>172</td>\n",
              "      <td>N</td>\n",
              "      <td>0.0</td>\n",
              "      <td>Up</td>\n",
              "      <td>0</td>\n",
              "    </tr>\n",
              "    <tr>\n",
              "      <th>1</th>\n",
              "      <td>49</td>\n",
              "      <td>F</td>\n",
              "      <td>NAP</td>\n",
              "      <td>160</td>\n",
              "      <td>180</td>\n",
              "      <td>0</td>\n",
              "      <td>156</td>\n",
              "      <td>N</td>\n",
              "      <td>1.0</td>\n",
              "      <td>Flat</td>\n",
              "      <td>1</td>\n",
              "    </tr>\n",
              "    <tr>\n",
              "      <th>2</th>\n",
              "      <td>37</td>\n",
              "      <td>M</td>\n",
              "      <td>ATA</td>\n",
              "      <td>130</td>\n",
              "      <td>283</td>\n",
              "      <td>0</td>\n",
              "      <td>98</td>\n",
              "      <td>N</td>\n",
              "      <td>0.0</td>\n",
              "      <td>Up</td>\n",
              "      <td>0</td>\n",
              "    </tr>\n",
              "    <tr>\n",
              "      <th>3</th>\n",
              "      <td>48</td>\n",
              "      <td>F</td>\n",
              "      <td>ASY</td>\n",
              "      <td>138</td>\n",
              "      <td>214</td>\n",
              "      <td>0</td>\n",
              "      <td>108</td>\n",
              "      <td>Y</td>\n",
              "      <td>1.5</td>\n",
              "      <td>Flat</td>\n",
              "      <td>1</td>\n",
              "    </tr>\n",
              "    <tr>\n",
              "      <th>4</th>\n",
              "      <td>54</td>\n",
              "      <td>M</td>\n",
              "      <td>NAP</td>\n",
              "      <td>150</td>\n",
              "      <td>195</td>\n",
              "      <td>0</td>\n",
              "      <td>122</td>\n",
              "      <td>N</td>\n",
              "      <td>0.0</td>\n",
              "      <td>Up</td>\n",
              "      <td>0</td>\n",
              "    </tr>\n",
              "    <tr>\n",
              "      <th>...</th>\n",
              "      <td>...</td>\n",
              "      <td>...</td>\n",
              "      <td>...</td>\n",
              "      <td>...</td>\n",
              "      <td>...</td>\n",
              "      <td>...</td>\n",
              "      <td>...</td>\n",
              "      <td>...</td>\n",
              "      <td>...</td>\n",
              "      <td>...</td>\n",
              "      <td>...</td>\n",
              "    </tr>\n",
              "    <tr>\n",
              "      <th>913</th>\n",
              "      <td>45</td>\n",
              "      <td>M</td>\n",
              "      <td>TA</td>\n",
              "      <td>110</td>\n",
              "      <td>264</td>\n",
              "      <td>0</td>\n",
              "      <td>132</td>\n",
              "      <td>N</td>\n",
              "      <td>1.2</td>\n",
              "      <td>Flat</td>\n",
              "      <td>1</td>\n",
              "    </tr>\n",
              "    <tr>\n",
              "      <th>914</th>\n",
              "      <td>68</td>\n",
              "      <td>M</td>\n",
              "      <td>ASY</td>\n",
              "      <td>144</td>\n",
              "      <td>193</td>\n",
              "      <td>1</td>\n",
              "      <td>141</td>\n",
              "      <td>N</td>\n",
              "      <td>3.4</td>\n",
              "      <td>Flat</td>\n",
              "      <td>1</td>\n",
              "    </tr>\n",
              "    <tr>\n",
              "      <th>915</th>\n",
              "      <td>57</td>\n",
              "      <td>M</td>\n",
              "      <td>ASY</td>\n",
              "      <td>130</td>\n",
              "      <td>131</td>\n",
              "      <td>0</td>\n",
              "      <td>115</td>\n",
              "      <td>Y</td>\n",
              "      <td>1.2</td>\n",
              "      <td>Flat</td>\n",
              "      <td>1</td>\n",
              "    </tr>\n",
              "    <tr>\n",
              "      <th>916</th>\n",
              "      <td>57</td>\n",
              "      <td>F</td>\n",
              "      <td>ATA</td>\n",
              "      <td>130</td>\n",
              "      <td>236</td>\n",
              "      <td>0</td>\n",
              "      <td>174</td>\n",
              "      <td>N</td>\n",
              "      <td>0.0</td>\n",
              "      <td>Flat</td>\n",
              "      <td>1</td>\n",
              "    </tr>\n",
              "    <tr>\n",
              "      <th>917</th>\n",
              "      <td>38</td>\n",
              "      <td>M</td>\n",
              "      <td>NAP</td>\n",
              "      <td>138</td>\n",
              "      <td>175</td>\n",
              "      <td>0</td>\n",
              "      <td>173</td>\n",
              "      <td>N</td>\n",
              "      <td>0.0</td>\n",
              "      <td>Up</td>\n",
              "      <td>0</td>\n",
              "    </tr>\n",
              "  </tbody>\n",
              "</table>\n",
              "<p>917 rows × 11 columns</p>\n",
              "</div>\n",
              "      <button class=\"colab-df-convert\" onclick=\"convertToInteractive('df-7fadc254-6857-40a3-8e79-fe13a194dd92')\"\n",
              "              title=\"Convert this dataframe to an interactive table.\"\n",
              "              style=\"display:none;\">\n",
              "        \n",
              "  <svg xmlns=\"http://www.w3.org/2000/svg\" height=\"24px\"viewBox=\"0 0 24 24\"\n",
              "       width=\"24px\">\n",
              "    <path d=\"M0 0h24v24H0V0z\" fill=\"none\"/>\n",
              "    <path d=\"M18.56 5.44l.94 2.06.94-2.06 2.06-.94-2.06-.94-.94-2.06-.94 2.06-2.06.94zm-11 1L8.5 8.5l.94-2.06 2.06-.94-2.06-.94L8.5 2.5l-.94 2.06-2.06.94zm10 10l.94 2.06.94-2.06 2.06-.94-2.06-.94-.94-2.06-.94 2.06-2.06.94z\"/><path d=\"M17.41 7.96l-1.37-1.37c-.4-.4-.92-.59-1.43-.59-.52 0-1.04.2-1.43.59L10.3 9.45l-7.72 7.72c-.78.78-.78 2.05 0 2.83L4 21.41c.39.39.9.59 1.41.59.51 0 1.02-.2 1.41-.59l7.78-7.78 2.81-2.81c.8-.78.8-2.07 0-2.86zM5.41 20L4 18.59l7.72-7.72 1.47 1.35L5.41 20z\"/>\n",
              "  </svg>\n",
              "      </button>\n",
              "      \n",
              "  <style>\n",
              "    .colab-df-container {\n",
              "      display:flex;\n",
              "      flex-wrap:wrap;\n",
              "      gap: 12px;\n",
              "    }\n",
              "\n",
              "    .colab-df-convert {\n",
              "      background-color: #E8F0FE;\n",
              "      border: none;\n",
              "      border-radius: 50%;\n",
              "      cursor: pointer;\n",
              "      display: none;\n",
              "      fill: #1967D2;\n",
              "      height: 32px;\n",
              "      padding: 0 0 0 0;\n",
              "      width: 32px;\n",
              "    }\n",
              "\n",
              "    .colab-df-convert:hover {\n",
              "      background-color: #E2EBFA;\n",
              "      box-shadow: 0px 1px 2px rgba(60, 64, 67, 0.3), 0px 1px 3px 1px rgba(60, 64, 67, 0.15);\n",
              "      fill: #174EA6;\n",
              "    }\n",
              "\n",
              "    [theme=dark] .colab-df-convert {\n",
              "      background-color: #3B4455;\n",
              "      fill: #D2E3FC;\n",
              "    }\n",
              "\n",
              "    [theme=dark] .colab-df-convert:hover {\n",
              "      background-color: #434B5C;\n",
              "      box-shadow: 0px 1px 3px 1px rgba(0, 0, 0, 0.15);\n",
              "      filter: drop-shadow(0px 1px 2px rgba(0, 0, 0, 0.3));\n",
              "      fill: #FFFFFF;\n",
              "    }\n",
              "  </style>\n",
              "\n",
              "      <script>\n",
              "        const buttonEl =\n",
              "          document.querySelector('#df-7fadc254-6857-40a3-8e79-fe13a194dd92 button.colab-df-convert');\n",
              "        buttonEl.style.display =\n",
              "          google.colab.kernel.accessAllowed ? 'block' : 'none';\n",
              "\n",
              "        async function convertToInteractive(key) {\n",
              "          const element = document.querySelector('#df-7fadc254-6857-40a3-8e79-fe13a194dd92');\n",
              "          const dataTable =\n",
              "            await google.colab.kernel.invokeFunction('convertToInteractive',\n",
              "                                                     [key], {});\n",
              "          if (!dataTable) return;\n",
              "\n",
              "          const docLinkHtml = 'Like what you see? Visit the ' +\n",
              "            '<a target=\"_blank\" href=https://colab.research.google.com/notebooks/data_table.ipynb>data table notebook</a>'\n",
              "            + ' to learn more about interactive tables.';\n",
              "          element.innerHTML = '';\n",
              "          dataTable['output_type'] = 'display_data';\n",
              "          await google.colab.output.renderOutput(dataTable, element);\n",
              "          const docLink = document.createElement('div');\n",
              "          docLink.innerHTML = docLinkHtml;\n",
              "          element.appendChild(docLink);\n",
              "        }\n",
              "      </script>\n",
              "    </div>\n",
              "  </div>\n",
              "  "
            ]
          },
          "metadata": {},
          "execution_count": 126
        }
      ]
    },
    {
      "cell_type": "markdown",
      "metadata": {
        "id": "jaTWGcDJSXS6"
      },
      "source": [
        "# **Data Visualization**"
      ]
    },
    {
      "cell_type": "markdown",
      "metadata": {
        "id": "FCQ5GCV3ecOe"
      },
      "source": [
        "let's change the labeling for better visualization and interpretation."
      ]
    },
    {
      "cell_type": "code",
      "metadata": {
        "id": "84ZirTQyeJFO"
      },
      "source": [
        "df['HeartDisease'] = df.HeartDisease.replace({1: \"Disease\", 0: \"No_disease\"})\n",
        "df.head(1)"
      ],
      "execution_count": null,
      "outputs": []
    },
    {
      "cell_type": "markdown",
      "metadata": {
        "id": "BSG33CKODmMI"
      },
      "source": [
        "# Heart Disease variable distribution\n",
        "\n"
      ]
    },
    {
      "cell_type": "code",
      "source": [
        "fig, ax = plt.subplots(figsize=(8,5))\n",
        "name = df['Sex']\n",
        "ax = sns.countplot(x='HeartDisease', data=df, palette='coolwarm')\n",
        "ax.set_title(\"Target counts\", fontsize = 13, weight = 'bold')\n",
        "\n"
      ],
      "metadata": {
        "id": "nb7LxWCHtjds"
      },
      "execution_count": null,
      "outputs": []
    },
    {
      "cell_type": "markdown",
      "metadata": {
        "id": "tsVvcq0tDfrW"
      },
      "source": [
        "## There are more diseased than healthy patients."
      ]
    },
    {
      "cell_type": "markdown",
      "metadata": {
        "id": "bQNFoNRDE0JZ"
      },
      "source": [
        "# Age variable distribution"
      ]
    },
    {
      "cell_type": "code",
      "metadata": {
        "id": "Byol63oKmDl-",
        "colab": {
          "base_uri": "https://localhost:8080/",
          "height": 354
        },
        "outputId": "6304545a-e88b-440f-c8d3-00d2479fec3a"
      },
      "source": [
        "sns.distplot(df['Age'],bins=10, hist=True, kde=True, color=\"purple\")"
      ],
      "execution_count": null,
      "outputs": [
        {
          "output_type": "stream",
          "name": "stderr",
          "text": [
            "/usr/local/lib/python3.7/dist-packages/seaborn/distributions.py:2619: FutureWarning: `distplot` is a deprecated function and will be removed in a future version. Please adapt your code to use either `displot` (a figure-level function with similar flexibility) or `histplot` (an axes-level function for histograms).\n",
            "  warnings.warn(msg, FutureWarning)\n"
          ]
        },
        {
          "output_type": "execute_result",
          "data": {
            "text/plain": [
              "<matplotlib.axes._subplots.AxesSubplot at 0x7f47bcd24f50>"
            ]
          },
          "metadata": {},
          "execution_count": 45
        },
        {
          "output_type": "display_data",
          "data": {
            "text/plain": [
              "<Figure size 432x288 with 1 Axes>"
            ],
            "image/png": "[encoded data removed]"
          },
          "metadata": {
            "needs_background": "light"
          }
        }
      ]
    },
    {
      "cell_type": "markdown",
      "metadata": {
        "id": "YRAgwOVPFbFl"
      },
      "source": [
        "Most of the diseased patients are aged between 50 and 60."
      ]
    },
    {
      "cell_type": "code",
      "source": [
        "df.Age.value_counts()"
      ],
      "metadata": {
        "colab": {
          "base_uri": "https://localhost:8080/"
        },
        "id": "ob3dqtM4wzmA",
        "outputId": "d6b531d9-613f-4c7f-b927-03dc6c3e9b8e"
      },
      "execution_count": null,
      "outputs": [
        {
          "output_type": "execute_result",
          "data": {
            "text/plain": [
              "54    51\n",
              "58    42\n",
              "55    41\n",
              "56    38\n",
              "57    38\n",
              "52    36\n",
              "51    35\n",
              "59    35\n",
              "62    35\n",
              "53    33\n",
              "60    32\n",
              "48    31\n",
              "61    31\n",
              "63    30\n",
              "50    25\n",
              "46    24\n",
              "41    24\n",
              "43    24\n",
              "64    22\n",
              "65    21\n",
              "49    21\n",
              "47    19\n",
              "44    19\n",
              "42    18\n",
              "45    18\n",
              "38    16\n",
              "67    15\n",
              "39    15\n",
              "66    13\n",
              "69    13\n",
              "40    13\n",
              "35    11\n",
              "37    11\n",
              "68    10\n",
              "34     7\n",
              "74     7\n",
              "70     7\n",
              "36     6\n",
              "71     5\n",
              "32     5\n",
              "72     4\n",
              "29     3\n",
              "75     3\n",
              "33     2\n",
              "77     2\n",
              "76     2\n",
              "31     2\n",
              "30     1\n",
              "28     1\n",
              "73     1\n",
              "Name: Age, dtype: int64"
            ]
          },
          "metadata": {},
          "execution_count": 48
        }
      ]
    },
    {
      "cell_type": "code",
      "metadata": {
        "id": "QJkTq2xsOXzx",
        "colab": {
          "base_uri": "https://localhost:8080/",
          "height": 1000
        },
        "outputId": "7f674e0b-5f0b-4a6c-d0a9-9a6dbfedd343"
      },
      "source": [
        "plt.figure(figsize=(20, 20))\n",
        "sns.barplot(\n",
        "            x=df.Age.value_counts()[:50].index,\n",
        "            y=df.Age.value_counts()[:50].values,\n",
        "            palette='Set2')\n",
        "plt.xlabel('Age')\n",
        "plt.ylabel('Age distribution')"
      ],
      "execution_count": null,
      "outputs": [
        {
          "output_type": "execute_result",
          "data": {
            "text/plain": [
              "Text(0, 0.5, 'Age distribution')"
            ]
          },
          "metadata": {},
          "execution_count": 53
        },
        {
          "output_type": "display_data",
          "data": {
            "text/plain": [
              "<Figure size 1440x1440 with 1 Axes>"
            ],
            "image/png": "[encoded data removed]"
          },
          "metadata": {
            "needs_background": "light"
          }
        }
      ]
    },
    {
      "cell_type": "markdown",
      "metadata": {
        "id": "LqXzfqZLE48Z"
      },
      "source": [
        "# Maximum Heart Rate distribution"
      ]
    },
    {
      "cell_type": "code",
      "metadata": {
        "id": "VtT6kHiENvMs",
        "colab": {
          "base_uri": "https://localhost:8080/",
          "height": 354
        },
        "outputId": "2e3ca5f3-3449-4782-9079-d8c9eb04c599"
      },
      "source": [
        "sns.distplot(df['MaxHR'],bins=10, hist=True, kde=True, color=\"brown\")"
      ],
      "execution_count": null,
      "outputs": [
        {
          "output_type": "stream",
          "name": "stderr",
          "text": [
            "/usr/local/lib/python3.7/dist-packages/seaborn/distributions.py:2619: FutureWarning: `distplot` is a deprecated function and will be removed in a future version. Please adapt your code to use either `displot` (a figure-level function with similar flexibility) or `histplot` (an axes-level function for histograms).\n",
            "  warnings.warn(msg, FutureWarning)\n"
          ]
        },
        {
          "output_type": "execute_result",
          "data": {
            "text/plain": [
              "<matplotlib.axes._subplots.AxesSubplot at 0x7f47bd0e4710>"
            ]
          },
          "metadata": {},
          "execution_count": 54
        },
        {
          "output_type": "display_data",
          "data": {
            "text/plain": [
              "<Figure size 432x288 with 1 Axes>"
            ],
            "image/png": "[encoded data removed]"
          },
          "metadata": {
            "needs_background": "light"
          }
        }
      ]
    },
    {
      "cell_type": "markdown",
      "metadata": {
        "id": "YObpowxLIGLL"
      },
      "source": [
        "# Cholesterol variable disrtibution"
      ]
    },
    {
      "cell_type": "code",
      "metadata": {
        "id": "Y1jx5sCKaxhp",
        "colab": {
          "base_uri": "https://localhost:8080/",
          "height": 356
        },
        "outputId": "dc875086-64d1-462c-bac1-2c34ad7758f2"
      },
      "source": [
        "sns.distplot(df['Cholesterol'],bins=10, hist=True, kde=True, color=\"orange\")"
      ],
      "execution_count": null,
      "outputs": [
        {
          "output_type": "stream",
          "name": "stderr",
          "text": [
            "/usr/local/lib/python3.7/dist-packages/seaborn/distributions.py:2619: FutureWarning: `distplot` is a deprecated function and will be removed in a future version. Please adapt your code to use either `displot` (a figure-level function with similar flexibility) or `histplot` (an axes-level function for histograms).\n",
            "  warnings.warn(msg, FutureWarning)\n"
          ]
        },
        {
          "output_type": "execute_result",
          "data": {
            "text/plain": [
              "<matplotlib.axes._subplots.AxesSubplot at 0x7f47b9d21410>"
            ]
          },
          "metadata": {},
          "execution_count": 55
        },
        {
          "output_type": "display_data",
          "data": {
            "text/plain": [
              "<Figure size 432x288 with 1 Axes>"
            ],
            "image/png": "[encoded data removed]"
          },
          "metadata": {
            "needs_background": "light"
          }
        }
      ]
    },
    {
      "cell_type": "markdown",
      "metadata": {
        "id": "Wsel5bt3IR05"
      },
      "source": [
        "# Resting blood pressure variable distribution"
      ]
    },
    {
      "cell_type": "code",
      "metadata": {
        "id": "vKX22BRReHTi",
        "colab": {
          "base_uri": "https://localhost:8080/",
          "height": 354
        },
        "outputId": "5d5f7cf0-ba27-4eab-dde4-719540e722f2"
      },
      "source": [
        "sns.distplot(df['RestingBP'],bins=10, hist=True, kde=True, color=\"teal\")"
      ],
      "execution_count": null,
      "outputs": [
        {
          "output_type": "stream",
          "name": "stderr",
          "text": [
            "/usr/local/lib/python3.7/dist-packages/seaborn/distributions.py:2619: FutureWarning: `distplot` is a deprecated function and will be removed in a future version. Please adapt your code to use either `displot` (a figure-level function with similar flexibility) or `histplot` (an axes-level function for histograms).\n",
            "  warnings.warn(msg, FutureWarning)\n"
          ]
        },
        {
          "output_type": "execute_result",
          "data": {
            "text/plain": [
              "<matplotlib.axes._subplots.AxesSubplot at 0x7f47b9cb3650>"
            ]
          },
          "metadata": {},
          "execution_count": 56
        },
        {
          "output_type": "display_data",
          "data": {
            "text/plain": [
              "<Figure size 432x288 with 1 Axes>"
            ],
            "image/png": "[encoded data removed]"
          },
          "metadata": {
            "needs_background": "light"
          }
        }
      ]
    },
    {
      "cell_type": "markdown",
      "metadata": {
        "id": "btZUjkzFJrd1"
      },
      "source": [
        "# Old peak variable distribution"
      ]
    },
    {
      "cell_type": "code",
      "metadata": {
        "id": "I1r8txIHeTMP",
        "colab": {
          "base_uri": "https://localhost:8080/",
          "height": 354
        },
        "outputId": "7c40f7b0-396c-423d-94e8-e163dfe670ed"
      },
      "source": [
        "\tsns.distplot(df['Oldpeak'],bins=10, hist=True, kde=True, color=\"pink\")"
      ],
      "execution_count": null,
      "outputs": [
        {
          "output_type": "stream",
          "name": "stderr",
          "text": [
            "/usr/local/lib/python3.7/dist-packages/seaborn/distributions.py:2619: FutureWarning: `distplot` is a deprecated function and will be removed in a future version. Please adapt your code to use either `displot` (a figure-level function with similar flexibility) or `histplot` (an axes-level function for histograms).\n",
            "  warnings.warn(msg, FutureWarning)\n"
          ]
        },
        {
          "output_type": "execute_result",
          "data": {
            "text/plain": [
              "<matplotlib.axes._subplots.AxesSubplot at 0x7f47b9c3e3d0>"
            ]
          },
          "metadata": {},
          "execution_count": 57
        },
        {
          "output_type": "display_data",
          "data": {
            "text/plain": [
              "<Figure size 432x288 with 1 Axes>"
            ],
            "image/png": "[encoded data removed]"
          },
          "metadata": {
            "needs_background": "light"
          }
        }
      ]
    },
    {
      "cell_type": "markdown",
      "metadata": {
        "id": "nOFZ2Q56KMWS"
      },
      "source": [
        "#let's use the Box plots "
      ]
    },
    {
      "cell_type": "code",
      "source": [
        "df.describe()"
      ],
      "metadata": {
        "colab": {
          "base_uri": "https://localhost:8080/",
          "height": 300
        },
        "id": "utf_EtWkyecD",
        "outputId": "11ec808d-118a-41fe-8a6d-e80835d155ba"
      },
      "execution_count": null,
      "outputs": [
        {
          "output_type": "execute_result",
          "data": {
            "text/plain": [
              "              Age   RestingBP  Cholesterol   FastingBS       MaxHR  \\\n",
              "count  918.000000  918.000000   918.000000  918.000000  918.000000   \n",
              "mean    53.510893  132.396514   198.799564    0.233115  136.809368   \n",
              "std      9.432617   18.514154   109.384145    0.423046   25.460334   \n",
              "min     28.000000    0.000000     0.000000    0.000000   60.000000   \n",
              "25%     47.000000  120.000000   173.250000    0.000000  120.000000   \n",
              "50%     54.000000  130.000000   223.000000    0.000000  138.000000   \n",
              "75%     60.000000  140.000000   267.000000    0.000000  156.000000   \n",
              "max     77.000000  200.000000   603.000000    1.000000  202.000000   \n",
              "\n",
              "          Oldpeak  HeartDisease  \n",
              "count  918.000000    918.000000  \n",
              "mean     0.887364      0.553377  \n",
              "std      1.066570      0.497414  \n",
              "min     -2.600000      0.000000  \n",
              "25%      0.000000      0.000000  \n",
              "50%      0.600000      1.000000  \n",
              "75%      1.500000      1.000000  \n",
              "max      6.200000      1.000000  "
            ],
            "text/html": [
              "\n",
              "  <div id=\"df-89ecc580-8d12-48a7-b3c6-a637a1d938fd\">\n",
              "    <div class=\"colab-df-container\">\n",
              "      <div>\n",
              "<style scoped>\n",
              "    .dataframe tbody tr th:only-of-type {\n",
              "        vertical-align: middle;\n",
              "    }\n",
              "\n",
              "    .dataframe tbody tr th {\n",
              "        vertical-align: top;\n",
              "    }\n",
              "\n",
              "    .dataframe thead th {\n",
              "        text-align: right;\n",
              "    }\n",
              "</style>\n",
              "<table border=\"1\" class=\"dataframe\">\n",
              "  <thead>\n",
              "    <tr style=\"text-align: right;\">\n",
              "      <th></th>\n",
              "      <th>Age</th>\n",
              "      <th>RestingBP</th>\n",
              "      <th>Cholesterol</th>\n",
              "      <th>FastingBS</th>\n",
              "      <th>MaxHR</th>\n",
              "      <th>Oldpeak</th>\n",
              "      <th>HeartDisease</th>\n",
              "    </tr>\n",
              "  </thead>\n",
              "  <tbody>\n",
              "    <tr>\n",
              "      <th>count</th>\n",
              "      <td>918.000000</td>\n",
              "      <td>918.000000</td>\n",
              "      <td>918.000000</td>\n",
              "      <td>918.000000</td>\n",
              "      <td>918.000000</td>\n",
              "      <td>918.000000</td>\n",
              "      <td>918.000000</td>\n",
              "    </tr>\n",
              "    <tr>\n",
              "      <th>mean</th>\n",
              "      <td>53.510893</td>\n",
              "      <td>132.396514</td>\n",
              "      <td>198.799564</td>\n",
              "      <td>0.233115</td>\n",
              "      <td>136.809368</td>\n",
              "      <td>0.887364</td>\n",
              "      <td>0.553377</td>\n",
              "    </tr>\n",
              "    <tr>\n",
              "      <th>std</th>\n",
              "      <td>9.432617</td>\n",
              "      <td>18.514154</td>\n",
              "      <td>109.384145</td>\n",
              "      <td>0.423046</td>\n",
              "      <td>25.460334</td>\n",
              "      <td>1.066570</td>\n",
              "      <td>0.497414</td>\n",
              "    </tr>\n",
              "    <tr>\n",
              "      <th>min</th>\n",
              "      <td>28.000000</td>\n",
              "      <td>0.000000</td>\n",
              "      <td>0.000000</td>\n",
              "      <td>0.000000</td>\n",
              "      <td>60.000000</td>\n",
              "      <td>-2.600000</td>\n",
              "      <td>0.000000</td>\n",
              "    </tr>\n",
              "    <tr>\n",
              "      <th>25%</th>\n",
              "      <td>47.000000</td>\n",
              "      <td>120.000000</td>\n",
              "      <td>173.250000</td>\n",
              "      <td>0.000000</td>\n",
              "      <td>120.000000</td>\n",
              "      <td>0.000000</td>\n",
              "      <td>0.000000</td>\n",
              "    </tr>\n",
              "    <tr>\n",
              "      <th>50%</th>\n",
              "      <td>54.000000</td>\n",
              "      <td>130.000000</td>\n",
              "      <td>223.000000</td>\n",
              "      <td>0.000000</td>\n",
              "      <td>138.000000</td>\n",
              "      <td>0.600000</td>\n",
              "      <td>1.000000</td>\n",
              "    </tr>\n",
              "    <tr>\n",
              "      <th>75%</th>\n",
              "      <td>60.000000</td>\n",
              "      <td>140.000000</td>\n",
              "      <td>267.000000</td>\n",
              "      <td>0.000000</td>\n",
              "      <td>156.000000</td>\n",
              "      <td>1.500000</td>\n",
              "      <td>1.000000</td>\n",
              "    </tr>\n",
              "    <tr>\n",
              "      <th>max</th>\n",
              "      <td>77.000000</td>\n",
              "      <td>200.000000</td>\n",
              "      <td>603.000000</td>\n",
              "      <td>1.000000</td>\n",
              "      <td>202.000000</td>\n",
              "      <td>6.200000</td>\n",
              "      <td>1.000000</td>\n",
              "    </tr>\n",
              "  </tbody>\n",
              "</table>\n",
              "</div>\n",
              "      <button class=\"colab-df-convert\" onclick=\"convertToInteractive('df-89ecc580-8d12-48a7-b3c6-a637a1d938fd')\"\n",
              "              title=\"Convert this dataframe to an interactive table.\"\n",
              "              style=\"display:none;\">\n",
              "        \n",
              "  <svg xmlns=\"http://www.w3.org/2000/svg\" height=\"24px\"viewBox=\"0 0 24 24\"\n",
              "       width=\"24px\">\n",
              "    <path d=\"M0 0h24v24H0V0z\" fill=\"none\"/>\n",
              "    <path d=\"M18.56 5.44l.94 2.06.94-2.06 2.06-.94-2.06-.94-.94-2.06-.94 2.06-2.06.94zm-11 1L8.5 8.5l.94-2.06 2.06-.94-2.06-.94L8.5 2.5l-.94 2.06-2.06.94zm10 10l.94 2.06.94-2.06 2.06-.94-2.06-.94-.94-2.06-.94 2.06-2.06.94z\"/><path d=\"M17.41 7.96l-1.37-1.37c-.4-.4-.92-.59-1.43-.59-.52 0-1.04.2-1.43.59L10.3 9.45l-7.72 7.72c-.78.78-.78 2.05 0 2.83L4 21.41c.39.39.9.59 1.41.59.51 0 1.02-.2 1.41-.59l7.78-7.78 2.81-2.81c.8-.78.8-2.07 0-2.86zM5.41 20L4 18.59l7.72-7.72 1.47 1.35L5.41 20z\"/>\n",
              "  </svg>\n",
              "      </button>\n",
              "      \n",
              "  <style>\n",
              "    .colab-df-container {\n",
              "      display:flex;\n",
              "      flex-wrap:wrap;\n",
              "      gap: 12px;\n",
              "    }\n",
              "\n",
              "    .colab-df-convert {\n",
              "      background-color: #E8F0FE;\n",
              "      border: none;\n",
              "      border-radius: 50%;\n",
              "      cursor: pointer;\n",
              "      display: none;\n",
              "      fill: #1967D2;\n",
              "      height: 32px;\n",
              "      padding: 0 0 0 0;\n",
              "      width: 32px;\n",
              "    }\n",
              "\n",
              "    .colab-df-convert:hover {\n",
              "      background-color: #E2EBFA;\n",
              "      box-shadow: 0px 1px 2px rgba(60, 64, 67, 0.3), 0px 1px 3px 1px rgba(60, 64, 67, 0.15);\n",
              "      fill: #174EA6;\n",
              "    }\n",
              "\n",
              "    [theme=dark] .colab-df-convert {\n",
              "      background-color: #3B4455;\n",
              "      fill: #D2E3FC;\n",
              "    }\n",
              "\n",
              "    [theme=dark] .colab-df-convert:hover {\n",
              "      background-color: #434B5C;\n",
              "      box-shadow: 0px 1px 3px 1px rgba(0, 0, 0, 0.15);\n",
              "      filter: drop-shadow(0px 1px 2px rgba(0, 0, 0, 0.3));\n",
              "      fill: #FFFFFF;\n",
              "    }\n",
              "  </style>\n",
              "\n",
              "      <script>\n",
              "        const buttonEl =\n",
              "          document.querySelector('#df-89ecc580-8d12-48a7-b3c6-a637a1d938fd button.colab-df-convert');\n",
              "        buttonEl.style.display =\n",
              "          google.colab.kernel.accessAllowed ? 'block' : 'none';\n",
              "\n",
              "        async function convertToInteractive(key) {\n",
              "          const element = document.querySelector('#df-89ecc580-8d12-48a7-b3c6-a637a1d938fd');\n",
              "          const dataTable =\n",
              "            await google.colab.kernel.invokeFunction('convertToInteractive',\n",
              "                                                     [key], {});\n",
              "          if (!dataTable) return;\n",
              "\n",
              "          const docLinkHtml = 'Like what you see? Visit the ' +\n",
              "            '<a target=\"_blank\" href=https://colab.research.google.com/notebooks/data_table.ipynb>data table notebook</a>'\n",
              "            + ' to learn more about interactive tables.';\n",
              "          element.innerHTML = '';\n",
              "          dataTable['output_type'] = 'display_data';\n",
              "          await google.colab.output.renderOutput(dataTable, element);\n",
              "          const docLink = document.createElement('div');\n",
              "          docLink.innerHTML = docLinkHtml;\n",
              "          element.appendChild(docLink);\n",
              "        }\n",
              "      </script>\n",
              "    </div>\n",
              "  </div>\n",
              "  "
            ]
          },
          "metadata": {},
          "execution_count": 59
        }
      ]
    },
    {
      "cell_type": "code",
      "metadata": {
        "id": "yum51NpvSuPs",
        "colab": {
          "base_uri": "https://localhost:8080/",
          "height": 295
        },
        "outputId": "e13473c7-cdc1-49d8-caab-50be2501a2ca"
      },
      "source": [
        "df.plot(kind='box', subplots=True, layout=(2,7),sharex=False,sharey=False, figsize=(20, 10), color='deeppink');"
      ],
      "execution_count": null,
      "outputs": [
        {
          "output_type": "display_data",
          "data": {
            "text/plain": [
              "<Figure size 1440x720 with 14 Axes>"
            ],
            "image/png": "[encoded data removed]"
          },
          "metadata": {
            "needs_background": "light"
          }
        }
      ]
    },
    {
      "cell_type": "markdown",
      "metadata": {
        "id": "k69SIahDKsGJ"
      },
      "source": [
        "As you can see, we have some outliers but these outliers hold useful informations. That's why we are going to keep them."
      ]
    },
    {
      "cell_type": "code",
      "metadata": {
        "id": "FjsSdn2al-9A",
        "colab": {
          "base_uri": "https://localhost:8080/",
          "height": 575
        },
        "outputId": "fe92ebb4-9919-47af-d3b9-13134fb46b4a"
      },
      "source": [
        "grid = sns.FacetGrid(df, row=\"RestingECG\", col=\"HeartDisease\", size=2.2, aspect=1.6)\n",
        "grid.map(sns.barplot, \"ST_Slope\", \"Cholesterol\", alpha=.5, ci=None)\n",
        "grid.add_legend()"
      ],
      "execution_count": null,
      "outputs": [
        {
          "output_type": "stream",
          "name": "stderr",
          "text": [
            "/usr/local/lib/python3.7/dist-packages/seaborn/axisgrid.py:337: UserWarning: The `size` parameter has been renamed to `height`; please update your code.\n",
            "  warnings.warn(msg, UserWarning)\n",
            "/usr/local/lib/python3.7/dist-packages/seaborn/axisgrid.py:670: UserWarning: Using the barplot function without specifying `order` is likely to produce an incorrect plot.\n",
            "  warnings.warn(warning)\n"
          ]
        },
        {
          "output_type": "execute_result",
          "data": {
            "text/plain": [
              "<seaborn.axisgrid.FacetGrid at 0x7f47b96312d0>"
            ]
          },
          "metadata": {},
          "execution_count": 60
        },
        {
          "output_type": "display_data",
          "data": {
            "text/plain": [
              "<Figure size 514.88x475.2 with 6 Axes>"
            ],
            "image/png": "[encoded data removed]"
          },
          "metadata": {
            "needs_background": "light"
          }
        }
      ]
    },
    {
      "cell_type": "code",
      "source": [
        "fig, ax = plt.subplots(figsize=(8,5))\n",
        "name = df['Sex']\n",
        "ax = sns.countplot(x='Sex', data=df, palette='coolwarm')\n",
        "ax.set_title(\"Sex Distribution according to Target\", fontsize = 13, weight = 'bold')\n",
        "\n"
      ],
      "metadata": {
        "id": "hM4p64SPzVwB",
        "outputId": "b8774558-52cb-459b-c92b-41cb7a4862dc",
        "colab": {
          "base_uri": "https://localhost:8080/",
          "height": 368
        }
      },
      "execution_count": null,
      "outputs": [
        {
          "output_type": "execute_result",
          "data": {
            "text/plain": [
              "Text(0.5, 1.0, 'Sex Distribution according to Target')"
            ]
          },
          "metadata": {},
          "execution_count": 62
        },
        {
          "output_type": "display_data",
          "data": {
            "text/plain": [
              "<Figure size 576x360 with 1 Axes>"
            ],
            "image/png": "[encoded data removed]"
          },
          "metadata": {
            "needs_background": "light"
          }
        }
      ]
    },
    {
      "cell_type": "code",
      "metadata": {
        "id": "eMeNkRklosaF",
        "colab": {
          "base_uri": "https://localhost:8080/",
          "height": 368
        },
        "outputId": "a216d575-d4f3-4140-ab72-eb87c2c64de8"
      },
      "source": [
        "fig, ax = plt.subplots(figsize=(8,5))\n",
        "name = df['Sex']\n",
        "ax = sns.countplot(x='Sex', hue='HeartDisease', data=df, palette='coolwarm')\n",
        "ax.set_title(\"Sex Distribution according to Target\", fontsize = 13, weight = 'bold')\n",
        "\n"
      ],
      "execution_count": null,
      "outputs": [
        {
          "output_type": "execute_result",
          "data": {
            "text/plain": [
              "Text(0.5, 1.0, 'Sex Distribution according to Target')"
            ]
          },
          "metadata": {},
          "execution_count": 61
        },
        {
          "output_type": "display_data",
          "data": {
            "text/plain": [
              "<Figure size 576x360 with 1 Axes>"
            ],
            "image/png": "[encoded data removed]"
          },
          "metadata": {
            "needs_background": "light"
          }
        }
      ]
    },
    {
      "cell_type": "markdown",
      "metadata": {
        "id": "kC_qwIPnNapv"
      },
      "source": [
        "Most diseased patients are males."
      ]
    },
    {
      "cell_type": "code",
      "metadata": {
        "id": "kK_ojPA7pWjh"
      },
      "source": [
        "fig, ax = plt.subplots(figsize=(10,5))\n",
        "name = df['ChestPainType']\n",
        "ax = sns.countplot(x='ChestPainType', hue='HeartDisease', data=df, palette='PiYG')\n",
        "ax.set_title(\"Chest Pain Distribution according to Target\", fontsize = 13, weight = 'bold')\n"
      ],
      "execution_count": null,
      "outputs": []
    },
    {
      "cell_type": "markdown",
      "metadata": {
        "id": "pXkzeb49NhF1"
      },
      "source": [
        "Most diseased patients have asymptomatic chest pain."
      ]
    },
    {
      "cell_type": "code",
      "metadata": {
        "id": "rQgOJX98p-uY"
      },
      "source": [
        "fig, ax = plt.subplots(figsize=(10,5))\n",
        "name = df['RestingECG']\n",
        "ax = sns.countplot(x='RestingECG', hue='HeartDisease', data=df, palette='Set3')\n",
        "ax.set_title(\"RestingECG Distribution according to Target\", fontsize = 13, weight = 'bold')\n"
      ],
      "execution_count": null,
      "outputs": []
    },
    {
      "cell_type": "markdown",
      "metadata": {
        "id": "a-_K0wzOOLdV"
      },
      "source": [
        "Most diseased patients have normal resting ECG"
      ]
    },
    {
      "cell_type": "code",
      "metadata": {
        "id": "Pbiu2Iz_rx9p"
      },
      "source": [
        "fig, ax = plt.subplots(figsize=(10,5))\n",
        "name = df['FastingBS']\n",
        "ax = sns.countplot(x='FastingBS', hue='HeartDisease', data=df, palette='Pastel2_r')\n",
        "ax.set_title(\"FastingBS Distribution according to Target\", fontsize = 13, weight = 'bold')"
      ],
      "execution_count": null,
      "outputs": []
    },
    {
      "cell_type": "markdown",
      "metadata": {
        "id": "BqOz-qcWOUqP"
      },
      "source": [
        "Most patients that have a fasting blood sugar = 1 are diseased."
      ]
    },
    {
      "cell_type": "code",
      "metadata": {
        "id": "nG0KMCtfsF2v"
      },
      "source": [
        "fig, ax = plt.subplots(figsize=(10,5))\n",
        "name = df['ExerciseAngina']\n",
        "ax = sns.countplot(x='ExerciseAngina', hue='HeartDisease', data=df, palette='Pastel2')\n",
        "ax.set_title(\"Exercise Angina Distribution according to Target\", fontsize = 13, weight = 'bold')"
      ],
      "execution_count": null,
      "outputs": []
    },
    {
      "cell_type": "markdown",
      "metadata": {
        "id": "KvxFe9MHOpD0"
      },
      "source": [
        "Most diseased patients have angina while exercising."
      ]
    },
    {
      "cell_type": "code",
      "metadata": {
        "id": "LnVDqBh-8r-F"
      },
      "source": [
        "fig, ax = plt.subplots(figsize=(10,5))\n",
        "name = df['ST_Slope']\n",
        "ax = sns.countplot(x='ST_Slope', hue='HeartDisease', data=df, palette='Pastel1')\n",
        "ax.set_title(\"ST_Slope Distribution according to Target\", fontsize = 13, weight = 'bold')"
      ],
      "execution_count": null,
      "outputs": []
    },
    {
      "cell_type": "markdown",
      "metadata": {
        "id": "bzIgnB6IQcXX"
      },
      "source": [
        "![51-2.jpg](data:image/jpeg;base64,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)"
      ]
    },
    {
      "cell_type": "markdown",
      "metadata": {
        "id": "HuiyRSHyQtvY"
      },
      "source": [
        "Most diseased patients have flat ST Slope"
      ]
    },
    {
      "cell_type": "code",
      "metadata": {
        "id": "LdEFJcXnlaE1"
      },
      "source": [
        "import seaborn as sns\n",
        "sns.pairplot(df, kind=\"scatter\", hue=\"HeartDisease\", palette=\"coolwarm_r\")\n",
        "plt.show()"
      ],
      "execution_count": null,
      "outputs": []
    },
    {
      "cell_type": "markdown",
      "metadata": {
        "id": "WFN0HyfnSmRw"
      },
      "source": [
        "Most diseased patients have a MaxHR under 125 and an oldpeak more than 2."
      ]
    },
    {
      "cell_type": "markdown",
      "metadata": {
        "id": "FGStsu26UnMX"
      },
      "source": [
        "Let's transform the categorical values to numerical ones to see their correlation with our target."
      ]
    },
    {
      "cell_type": "code",
      "metadata": {
        "id": "ArpTBrsaqrqE"
      },
      "source": [
        "df['HeartDisease'] = df.HeartDisease.replace({ \"Disease\": 1, \"No_disease\": 0})\n",
        "df['ChestPainType']=df.ChestPainType.replace({\"ASY\":0,\"ATA\":1,\"NAP\":2,\"TA\":3})\n",
        "df['RestingECG']=df.RestingECG.replace({\"Normal\":0,\"ST\":1,\"LVH\":2})\n",
        "df['ST_Slope']=df.ST_Slope.replace({\"Flat\":0,\"Up\":1,\"Down\":2})\n",
        "df['ExerciseAngina']=df.ExerciseAngina.replace({\"N\":0,\"Y\":1})\n",
        "df.head(1)"
      ],
      "execution_count": null,
      "outputs": []
    },
    {
      "cell_type": "code",
      "metadata": {
        "id": "nMQZZOsW22Kj"
      },
      "source": [
        "sns.set(style=\"white\") \n",
        "plt.rcParams['figure.figsize'] = (15, 10) \n",
        "sns.heatmap(df.corr(), annot = True, linewidths=.5, cmap=\"Pastel1\")\n",
        "plt.title('Correlation Between Variables', fontsize = 30)\n",
        "plt.show()"
      ],
      "execution_count": null,
      "outputs": []
    },
    {
      "cell_type": "markdown",
      "metadata": {
        "id": "92jP-H1WRGec"
      },
      "source": [
        "Age, Resting Blood Pressure, Fasting Blood Sugar, old peak and Exercice-induced angina have a positive correlation with our target.\n",
        "While cholesterol, Maximum heart rate, ST slope, cholesterol and chest type pain have a negative correlation with our target."
      ]
    },
    {
      "cell_type": "code",
      "metadata": {
        "id": "L40ti2HBiH12"
      },
      "source": [
        "sns.jointplot(x=df[\"Age\"], y=df[\"MaxHR\"], kind='hex', marginal_kws=dict(bins=30, fill=True))\n",
        "plt.show()"
      ],
      "execution_count": null,
      "outputs": []
    },
    {
      "cell_type": "markdown",
      "metadata": {
        "id": "BO_4DmvsT2WQ"
      },
      "source": [
        "There is a negative correlation between Age and Maximum heart rate."
      ]
    },
    {
      "cell_type": "code",
      "metadata": {
        "id": "npvyFdZsighh"
      },
      "source": [
        "sns.histplot(data=df, x=\"RestingBP\", color=\"skyblue\", label=\"RestingBP\", kde=True)\n",
        "sns.histplot(data=df, x=\"MaxHR\", color=\"pink\", label=\"MaxHR\", kde=True)\n",
        "plt.legend() \n",
        "plt.show()"
      ],
      "execution_count": null,
      "outputs": []
    },
    {
      "cell_type": "markdown",
      "metadata": {
        "id": "kKACi38rVryz"
      },
      "source": [
        "Resting BP and MaxHR distributions together."
      ]
    },
    {
      "cell_type": "markdown",
      "metadata": {
        "id": "VQgMGxNhXUL5"
      },
      "source": [
        "## **Now that we have visualized our data, let's try all the ML algorithms in order to choose the best that fits our data.**"
      ]
    },
    {
      "cell_type": "markdown",
      "metadata": {
        "id": "RbBsVAyVT2V1"
      },
      "source": [
        "# **Logistic Regression**"
      ]
    },
    {
      "cell_type": "code",
      "metadata": {
        "id": "NFmcSixHtqRU"
      },
      "source": [
        "x = df[['Age', 'Oldpeak','RestingBP','FastingBS','MaxHR','Cholesterol','ChestPainType','RestingECG','ExerciseAngina','ST_Slope']]\n",
        "y = df['HeartDisease']\n",
        "\n",
        "x_train,x_test,y_train,y_test = train_test_split(x,y,test_size=0.25,random_state=0)\n",
        "\n",
        "logreg = LogisticRegression() \n",
        "logreg.fit(x_train, y_train)  \n",
        "y_pred  = logreg.predict(x_test)   \n",
        "print(\"Accuracy:\",metrics.accuracy_score(y_test, y_pred))\n",
        "print(\"Precision:\",metrics.precision_score(y_test, y_pred))\n",
        "print(\"Recall:\",metrics.recall_score(y_test, y_pred))"
      ],
      "execution_count": null,
      "outputs": []
    },
    {
      "cell_type": "code",
      "metadata": {
        "id": "_80LUiDXGsDo"
      },
      "source": [
        "class_names=[0,1]\n",
        "fig, ax = plt.subplots()\n",
        "tick_marks = np.arange(len(class_names))\n",
        "plt.xticks(tick_marks, class_names)\n",
        "plt.yticks(tick_marks, class_names)\n",
        "cnf_matrix = metrics.confusion_matrix(y_test, y_pred)\n",
        "sns.heatmap(pd.DataFrame(cnf_matrix), annot=True, cmap=\"YlGnBu\" ,fmt='g')\n",
        "ax.xaxis.set_label_position(\"top\")\n",
        "plt.tight_layout()\n",
        "plt.title('Confusion matrix', y=1.1)\n",
        "plt.ylabel('Actual label')\n",
        "plt.xlabel('Predicted label')"
      ],
      "execution_count": null,
      "outputs": []
    },
    {
      "cell_type": "markdown",
      "metadata": {
        "id": "tM4xO_kcX97U"
      },
      "source": [
        "We have 73 true positive values and 118 true negative values."
      ]
    },
    {
      "cell_type": "markdown",
      "metadata": {
        "id": "jz88IoQsYrG6"
      },
      "source": [
        "The ROC curve."
      ]
    },
    {
      "cell_type": "code",
      "metadata": {
        "id": "2L8Mv6WvJUC9"
      },
      "source": [
        "y_pred_proba = logreg.predict_proba(x_test)[::,1]\n",
        "fpr, tpr, _ = metrics.roc_curve(y_test,  y_pred_proba)\n",
        "auc = metrics.roc_auc_score(y_test, y_pred_proba)\n",
        "plt.plot(fpr,tpr,color='darkorange',label=\"data 1, auc=\"+str(auc))\n",
        "plt.legend(loc=4)\n",
        "plt.show()"
      ],
      "execution_count": null,
      "outputs": []
    },
    {
      "cell_type": "markdown",
      "metadata": {
        "id": "z0CmdGY1j_Q2"
      },
      "source": [
        "# **KNN**"
      ]
    },
    {
      "cell_type": "markdown",
      "metadata": {
        "id": "Bl3vmWjOoz7-"
      },
      "source": [
        "Let's choose the best K value :"
      ]
    },
    {
      "cell_type": "code",
      "metadata": {
        "id": "TGr1mH64oyex"
      },
      "source": [
        "error_rate = []\n",
        "\n",
        "for i in range(1,50):\n",
        " \n",
        " knn = KNeighborsClassifier(n_neighbors=i)\n",
        " knn.fit(x_train,y_train)\n",
        " pred_i = knn.predict(x_test)\n",
        " error_rate.append(np.mean(pred_i != y_test))\n",
        "plt.figure(figsize=(10,6))\n",
        "plt.plot(range(1,50),error_rate,color='blue', linestyle='dashed', marker='o',markerfacecolor='red', markersize=10)\n",
        "plt.title('Error Rate vs. K Value')\n",
        "plt.xlabel('K')\n",
        "plt.ylabel('Error Rate')"
      ],
      "execution_count": null,
      "outputs": []
    },
    {
      "cell_type": "markdown",
      "metadata": {
        "id": "rzQI5fzgY3pb"
      },
      "source": [
        "Best K value = 10"
      ]
    },
    {
      "cell_type": "code",
      "metadata": {
        "id": "31o14mu9kHCo"
      },
      "source": [
        "knn=KNeighborsClassifier(n_neighbors=10) \n",
        "knn.fit(x_train,y_train)\n",
        "y_pred=knn.predict(x_test)\n",
        "print('Accuracy=',accuracy_score(y_pred,y_test))"
      ],
      "execution_count": null,
      "outputs": []
    },
    {
      "cell_type": "markdown",
      "metadata": {
        "id": "Orql79intYL1"
      },
      "source": [
        "# **Decision Tree Prediction**"
      ]
    },
    {
      "cell_type": "code",
      "metadata": {
        "id": "OVxzhqLOteB1"
      },
      "source": [
        "from sklearn import tree   \n",
        "from sklearn.tree import DecisionTreeClassifier\n",
        "tree = tree.DecisionTreeClassifier()  \n",
        "tree.fit(x_train, y_train)   \n",
        "y_pred=tree.predict(x_test)   \n",
        "print(\"Accuracy:{}\".format(accuracy_score(y_test, y_pred)))"
      ],
      "execution_count": null,
      "outputs": []
    },
    {
      "cell_type": "markdown",
      "metadata": {
        "id": "9p0G6tNww4_s"
      },
      "source": [
        "# **Random Forest**"
      ]
    },
    {
      "cell_type": "code",
      "metadata": {
        "id": "DKwCX4czXxoe"
      },
      "source": [
        "clf=RandomForestClassifier(n_estimators=10)  \n",
        "clf.fit(x_train, y_train) \n",
        "y_pred=clf.predict(x_test)  \n",
        "print(\"Accuracy:\", metrics.accuracy_score(y_test, y_pred))"
      ],
      "execution_count": null,
      "outputs": []
    },
    {
      "cell_type": "markdown",
      "metadata": {
        "id": "MKAdXb-dc_tP"
      },
      "source": [
        "Random Forest and logistic regression have the best accuracy. They are the best algorithms for our data."
      ]
    }
  ]
}